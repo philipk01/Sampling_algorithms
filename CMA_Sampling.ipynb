{
 "cells": [
  {
   "cell_type": "markdown",
   "metadata": {
    "nbpresent": {
     "id": "a7a786d5-ed86-4fca-af9a-eeb2c7d619be"
    }
   },
   "source": [
    "# CMA *Sampling*"
   ]
  },
  {
   "cell_type": "code",
   "execution_count": 1,
   "metadata": {
    "collapsed": true,
    "nbpresent": {
     "id": "24f6c3bd-a518-4f80-8a6d-21604150de7e"
    }
   },
   "outputs": [],
   "source": [
    "import numpy as np\n",
    "import numpy.linalg as la\n",
    "import matplotlib.pyplot as plt\n",
    "import scipy as sp\n",
    "import scipy.stats as ss\n",
    "import math\n",
    "import random\n",
    "from collections import namedtuple\n",
    "#%precision 4\n",
    "#%matplotlib inline"
   ]
  },
  {
   "cell_type": "code",
   "execution_count": 2,
   "metadata": {
    "collapsed": true,
    "nbpresent": {
     "id": "17b08793-d674-44ab-861d-ce65d17910ba"
    }
   },
   "outputs": [],
   "source": [
    "# project python modules\n",
    "from MH_Sampling import acceptance_decision\n",
    "from FileHandling import save_state\n",
    "from TestSuite import generate_state_space, generate_iid_samples, get_samples"
   ]
  },
  {
   "cell_type": "markdown",
   "metadata": {
    "nbpresent": {
     "id": "3efe5b64-50bb-40a8-8ae9-7a8cba161edf"
    }
   },
   "source": [
    "# CMA Sampler\n",
    "\n",
    "Both the CMA-ES optimization and sampling algorithm have a number of \n",
    "**strategy parameters** that do not change during the execution of the algorithm. \n",
    "We are using the default values as recommended in the paper *C. Igel, T. Suttorp, and N. Hansen, A Computational Efficient Covariance Matrix Update and a $(1+1)$-CMA for Evolution  Strategies*. henceforth called *the paper*.\n",
    "\n",
    "In the update of the **global scale** $\\sigma$, the following parameters with given initial values are used\n",
    "\n",
    "- **damping parameter** $$k = 1 + \\frac{d}{2}$$ where $d$ is the dimension of the state space. (**Note**: In the paper, $d$ is used for\n",
    "the damping parameter instead of $k$ and $n$ for dimension instead of $d$)\n",
    "- **target success rate** $$p_{s}^{succ} = \\frac{2}{11}$$\n",
    "(**Remark BM**: compare $p_{s}^{succ}$ to the optimal acceptance ratio in Metropolis-Hastings.)\n",
    "- **learning rate** $$\\lambda_p = \\frac{1}{12}$$ used in the update of the average success rate \n",
    "$\\bar{p}_s \\in \\left[ 0, 1 \\right]$, cf. the procedure *update_scale* below for more information.\n",
    "\n",
    "For the **covariance matrix adaptation**, they are\n",
    "\n",
    "- **evolution point weight** $$\\lambda_{\\mathbf{p}} = \\frac{2}{d+2}$$ \n",
    "- **covariance matrix weight** $$\\lambda_{\\mathbf{C}} = \\frac{2}{d^2 + 6}$$\n",
    "- **threshold** $$\\theta_p$$ for *average success rate* $\\bar{p}_s$. The update of the evolution point $\\mathbf{p}_c$ and the covariance matrix $\\mathbf{C}$ depend on the test $\\bar{p}_s < \\theta_p$, cf. the procedure *update_cov* below for more information.  \n",
    "\n",
    "**Note**: in the CMA ES literature, step size is used instead of global scale. In order to be consistent \n",
    "with the MCMC literature we prefer and use the latter."
   ]
  },
  {
   "cell_type": "markdown",
   "metadata": {
    "nbpresent": {
     "id": "7c1a4da2-ed82-4cc9-b439-e45fd5f232bc"
    }
   },
   "source": [
    "# Initial values \n",
    "\n",
    "The initial values are set as follows\n",
    "\n",
    "- **average success rate** $\\bar{p}_s = p_{s}^{succ}$ where $p_{s}^{succ}$ is the *target success rate*.\n",
    "- **evolution point** $\\mathbf{p}_c = \\mathbf{0}$\n",
    "- **covariance matrix** $\\mathbf{C} = \\mathbb{1}_d$\n",
    "\n",
    "The choice of the initial candidate $\\mathbf{x}_0$ and the initial global scale $\\sigma$ are problem dependent.\n",
    "Here, we initialize $\\mathbf{x}_0$ with a random point in a hypercube centered in the origin. Its side can\n",
    "vary. And $\\sigma = 1$."
   ]
  },
  {
   "cell_type": "code",
   "execution_count": 3,
   "metadata": {
    "collapsed": true,
    "nbpresent": {
     "id": "ccd4b0a0-af35-4114-ab01-96bdc4c7d204"
    }
   },
   "outputs": [],
   "source": [
    "# save covariance matrix adaptation (CMA) parameters in Named Tuple\n",
    "\n",
    "CMA_Parameters = namedtuple('CMA_Parameters', \n",
    "                               ['z_samples',\n",
    "                               #Parameters used in the global scale control\n",
    "                                's', 'k', 't_succ', 'c_p', \n",
    "                                #Parameters used in the covariance adaptation\n",
    "                                'c_c', 'c_cov', 'p_thres'])\n",
    "\n",
    "def init_CMA_pars(sp):\n",
    "    dim = sp['dim']\n",
    "    return CMA_Parameters(z_samples=get_samples(sp=sp, name='Z'),\n",
    "                          s=1, \n",
    "                          k=1+dim/2, \n",
    "                          t_succ=2/11, \n",
    "                          c_p=1/12, \n",
    "                          c_c=2/(dim+2), \n",
    "                          c_cov=2/(dim**2+6), \n",
    "                          p_thres=0.44)"
   ]
  },
  {
   "cell_type": "markdown",
   "metadata": {},
   "source": [
    "# Generation of the candidate $\\mathbf{x}^{*}$\n",
    "\n",
    "Let $\\mathbf{C} = \n",
    "\\mathbf{Q}\\mathbf{Q}^{\\top}$ be the Cholesky decomposition of the covariance matrix $\\mathbf{C}$. The candidate next state $\\mathbf{x}^{*}$ is generated as \n",
    "\n",
    "$$\\mathbf{x}^{*} = \\mathbf{x}_n + \\sigma_n \\mathbf{Q}_n \\mathbf{z}_n$$\n",
    "\n",
    "where $\\sigma_n$ are the global scale, $\\mathbf{Q}_n$ the Cholesky factor of $\\mathbf{C}_n$,\n",
    "and $\\mathbf{z}_n \\sim N(\\mathbf{0}, \\mathbb{1}_d)$ at time step $n$, respectively. "
   ]
  },
  {
   "cell_type": "code",
   "execution_count": 25,
   "metadata": {
    "collapsed": true,
    "nbpresent": {
     "id": "53047808-8d59-4439-ab0b-cfd39d11be74"
    }
   },
   "outputs": [],
   "source": [
    "def generate_CMA_candidate(current, scale, cov, z_sample):\n",
    "    # Use postive definite square root of C, cf. Tutiorial, p. 6.\n",
    "    Q = la.cholesky(cov) \n",
    "    y = Q @ z_sample\n",
    "    candidate = current + scale*y\n",
    "    return (candidate, y)"
   ]
  },
  {
   "cell_type": "markdown",
   "metadata": {
    "nbpresent": {
     "id": "56c15e1d-2bd3-4279-814e-754f13790012"
    }
   },
   "source": [
    "## Update of the global scale $\\sigma$\n",
    "\n",
    "**Each time step**, the global scale $\\sigma$ is updated and the update consists of two steps. \n",
    "First, average success rate $\\bar{p}_{s}$\n",
    "is updated and this depends on the acceptance of the generated candidate. Next,\n",
    "$\\sigma$ itself is updated.\n",
    "\n",
    "The **average success rate** $\\bar{p}_{s}$ and the **global scale** \n",
    "$\\sigma$ are updated as\n",
    "\n",
    "\\begin{align}\n",
    "\\bar{p}_{s} & \\leftarrow (1 -  c_p) \\bar{p}_{s} + c_p \\textit{ accepted_p}\\\\\n",
    "\\sigma & \\leftarrow  \\sigma ~ exp \\left( \\frac{1}{k} \\left( \\bar{p}_{s} - \\frac{p_{s}^{target}}{1 - p_{s}^{target}} (1-  \\bar{p}_{s}) \\right) \\right)\n",
    "\\end{align}"
   ]
  },
  {
   "cell_type": "code",
   "execution_count": 26,
   "metadata": {
    "collapsed": true,
    "nbpresent": {
     "id": "20211565-080e-441b-9de7-a0dd60fc6872"
    }
   },
   "outputs": [],
   "source": [
    "def update_scale(p_succ, sigma, accepted_p, pars):\n",
    "    # Parameters used in the global scale control\n",
    "    k, t_succ, c_p = pars.k, pars.t_succ, pars.c_p\n",
    "    \n",
    "    # Update the average success rate.\n",
    "    p_succ = (1- c_p)*p_succ + c_p*accepted_p\n",
    "\n",
    "    # Update global scale.\n",
    "    w = t_succ/(1-t_succ)\n",
    "    sigma = sigma * np.exp(1/k*(p_succ - w*(1-p_succ)))\n",
    "    return p_succ, sigma"
   ]
  },
  {
   "cell_type": "code",
   "execution_count": 27,
   "metadata": {
    "collapsed": true
   },
   "outputs": [],
   "source": [
    "def f(d):\n",
    "    k=1+d/2\n",
    "    t_succ = 2/11\n",
    "    w = t_succ/(1-t_succ)\n",
    "    return lambda x: np.exp(1/k*(x - w*(1-x)))"
   ]
  },
  {
   "cell_type": "code",
   "execution_count": 28,
   "metadata": {},
   "outputs": [
    {
     "data": {
      "text/plain": [
       "1.0000"
      ]
     },
     "execution_count": 28,
     "metadata": {},
     "output_type": "execute_result"
    }
   ],
   "source": [
    "f_d = f(d=50)\n",
    "f_d(2/11)"
   ]
  },
  {
   "cell_type": "code",
   "execution_count": 29,
   "metadata": {},
   "outputs": [
    {
     "data": {
      "image/png": "[encoded data removed]",
      "text/plain": [
       "<matplotlib.figure.Figure at 0x11bb4c7f0>"
      ]
     },
     "metadata": {},
     "output_type": "display_data"
    }
   ],
   "source": [
    "D = 2\n",
    "k = 1 + D/2\n",
    "f_d = f(d=D)\n",
    "x_range = np.linspace(start=0, stop=1, num=50, endpoint=True)\n",
    "f_range = f_d(x_range)\n",
    "t_succ = 2/11\n",
    "coords = (t_succ, f_d(t_succ))\n",
    "plt.title(r'$f(x) = e^{\\frac{1}{k} ( x - w (1 -  x ))}$')\n",
    "plt.annotate('target threshold', xy=coords, xytext=(0.2, 1.2),\n",
    "             arrowprops=dict(facecolor='black', shrink=0.05))\n",
    "plt.plot(x_range, f_range);"
   ]
  },
  {
   "cell_type": "markdown",
   "metadata": {
    "nbpresent": {
     "id": "af78c592-9f9f-410f-85c8-c67f1b5b00bf"
    }
   },
   "source": [
    "# Update of the covariance matrix $\\mathbf{C}$\n",
    "\n",
    "The covariance matrix is updated only **when** the generated candidate $\\mathbf{x}^{*}$ \n",
    "is **accepted**.\n",
    "This update also consists of two steps. \n",
    "First, the evolution point $\\mathbf{p}_{c}$\n",
    "is updated followed by the update of the covariance matrix itself. \n",
    "These updates depend on whether $\\bar{p}_s < \\theta_p$ or not.\n",
    "\n",
    "The **evolution point** $\\mathbf{p}_{c}$ and the **covariance matrix** \n",
    "$\\mathbf{C}$ are updated as\n",
    "\n",
    "\\begin{align}\n",
    "\\mathbf{p}_{c}  &\\leftarrow\n",
    "\\begin{cases}\n",
    "\\left(1-\\lambda_\\mathbf{p} \\right) \\mathbf{p}_{c} + \\sqrt{ \\lambda_\\mathbf{p}(2 - \\lambda_\\mathbf{p})}  \n",
    "~\\mathbf{y}   & \\mbox{if $\\bar{p_{s}} <  \\theta_p$}\\\\\n",
    "\\left (1-\\lambda_\\mathbf{p} \\right) \\mathbf{p}_{c} & \\mbox{otherwise}\n",
    "\\end{cases} \\\\\n",
    "\\mathbf{C} &\\leftarrow\t \n",
    "\\begin{cases}\n",
    "\\left( 1- \\lambda_\\mathbf{C} \\right) \\mathbf{C} + \\lambda_\\mathbf{C}  \n",
    "\\mathbf{p}_{c}\\mathbf{p}_{c}^{\\top} & \\mbox{if $\\bar{p_{s}} < \\theta_p$}\\\\\n",
    "\\left ( 1-\\lambda_\\mathbf{C} \\right) \\mathbf{C} + \\lambda_\\mathbf{C}   \\left (\\mathbf{p}_{c}\\mathbf{p}_{c}^{\\top} + \\lambda_\\mathbf{p}(2-\\lambda_\\mathbf{p}) \\mathbf{C}  \\right) & \\mbox{otherwise}\n",
    "\\end{cases} \n",
    "\\end{align}\n",
    "\n",
    "where $\\mathbf{y} = \\mathbf{Q} \\mathbf{z}$ with $\\mathbf{z} \\sim N(\\mathbf{0}, \\mathbb{1}_d)$ and $\\mathbf{C} = \n",
    "\\mathbf{Q}\\mathbf{Q}^{\\top}$, cf. above for more information about how samples are generated."
   ]
  },
  {
   "cell_type": "code",
   "execution_count": 30,
   "metadata": {
    "collapsed": true,
    "nbpresent": {
     "id": "5d1ad50f-ef3f-4028-afd8-5fbc4f7949f2"
    }
   },
   "outputs": [],
   "source": [
    "def update_cov(cov, evol_point, y, avg_success_rate, pars):\n",
    "    # Parameters used in the covariance matrix adapation\n",
    "    c_c, c_cov, p_thres = pars.c_c, pars.c_cov, pars.p_thres\n",
    "    if avg_success_rate < p_thres:\n",
    "        evol_point = (1-c_c)*evol_point + np.sqrt(c_c*(2-c_c))*y\n",
    "        cov = (1-c_cov)*cov + c_cov*np.outer(evol_point.T, evol_point)\n",
    "    else:\n",
    "        evol_point = (1-c_c)*evol_point\n",
    "        cov = (1-c_cov)*cov + c_cov*(np.outer(evol_point.T, evol_point) + c_c*(2-c_c)*cov)\n",
    "    return evol_point, cov"
   ]
  },
  {
   "cell_type": "markdown",
   "metadata": {
    "nbpresent": {
     "id": "9b96645c-10c0-4f9e-af18-5d35a440d078"
    }
   },
   "source": [
    "# (1+1)-CMA ES Sampler\n",
    "\n",
    "The sampler operates as follows\n",
    "\n",
    " Initialize $\\mathbf{x}$, $\\sigma = 1$, $\\mathbf{C} = \\mathbb{1}_d$, \n",
    "$\\bar{p}_s = p_s^{target}$, and $\\mathbf{p}_c = \\mathbf{0}$\n",
    "\n",
    " **repeat** \n",
    ">   1. determine $\\mathbf{Q}$ such that $\\mathbf{C} = \\mathbf{Q} \\mathbf{Q}^\\top$\n",
    ">   2. $\\mathbf{z} \\sim N(\\mathbf{0}, ~ \\mathbb{1}_d)$\n",
    ">   3. $\\mathbf{x}^{*} = \\mathbf{x} + \\sigma ~ \\mathbf{Q} ~ \\mathbf{z}$\n",
    ">   4. *accepted_p* = *acceptance_decision*($\\mathbf{x}, \\mathbf{x}^{*}, \\pi$) where $\\pi$ is the target distribution\n",
    ">   5. **if** *accepted_p* **then** \n",
    ">>    * $\\mathbf{x} \\leftarrow \\mathbf{x}^{*}$\n",
    ">>    * *updateCov*($\\mathbf{C}, ~ \\mathbf{Q} \\mathbf{z}, ~ \\bar{p}_s, ~ \\mathbf{p}_c$)\n",
    "\n",
    " **until** stopping criterium is met"
   ]
  },
  {
   "cell_type": "code",
   "execution_count": 31,
   "metadata": {
    "collapsed": true,
    "nbpresent": {
     "id": "7bfcd607-0333-4858-924e-37e65b00ac60"
    }
   },
   "outputs": [],
   "source": [
    "def CMA_sampler(pars, target, initial_state, run_data):\n",
    "    target_pdf, sp = target['pdf'], target['State Space']\n",
    "    Origin, Id = sp['Origin'], sp['Id']\n",
    "    s, p_succ, p_c = pars.s, pars.t_succ, Origin\n",
    "    ds, N = run_data.DataStore, run_data.N\n",
    "    z_samples = pars.z_samples\n",
    "    \n",
    "    x_current = initial_state\n",
    "    C = Id\n",
    "    \n",
    "    save_state(data_store=ds, \n",
    "               step=0, \n",
    "               state=x_current, \n",
    "               value=target_pdf(x_current), \n",
    "               accepted_p=True, \n",
    "               mean=p_c, \n",
    "               covariance=C, \n",
    "               scale=s, \n",
    "               threshold=p_succ)\n",
    "    \n",
    "    for n in range(1, N):\n",
    "        # generate new candidate sample\n",
    "        x_new, delta = generate_CMA_candidate(current=x_current, scale=s, cov=C, z_sample=z_samples[n])\n",
    "        \n",
    "        # run Metropolis Hastings acceptance criteria\n",
    "        accepted_p = acceptance_decision(current=x_current, proposed=x_new, pdf=target_pdf)\n",
    "        p_succ, s = update_scale(p_succ=p_succ, sigma=s, accepted_p=accepted_p, pars=pars)\n",
    "        \n",
    "        if accepted_p:\n",
    "            # accepted candidate becomes new state\n",
    "            x_current = x_new\n",
    "            p_c, C = update_cov(evol_point=p_c, cov=C, y=delta, avg_success_rate=p_succ, pars=pars)\n",
    "        \n",
    "        # save accepted and non-accepted sates in namedtuple\n",
    "        save_state(data_store=ds, \n",
    "                   step=n, \n",
    "                   state=x_current, \n",
    "                   value=target_pdf(x_current), \n",
    "                   accepted_p=accepted_p, \n",
    "                   mean=p_c, \n",
    "                   covariance=C, \n",
    "                   scale=s, \n",
    "                   threshold=p_succ)\n",
    "    return run_data"
   ]
  }
 ],
 "metadata": {
  "anaconda-cloud": {},
  "kernelspec": {
   "display_name": "Python 3",
   "language": "python",
   "name": "python3"
  },
  "language_info": {
   "codemirror_mode": {
    "name": "ipython",
    "version": 3
   },
   "file_extension": ".py",
   "mimetype": "text/x-python",
   "name": "python",
   "nbconvert_exporter": "python",
   "pygments_lexer": "ipython3",
   "version": "3.6.1"
  },
  "nbpresent": {
   "slides": {
    "0906378b-9124-4d60-ade6-df244b260b63": {
     "id": "0906378b-9124-4d60-ade6-df244b260b63",
     "prev": "2472a066-b949-4a63-9dc7-426c957b65ab",
     "regions": {
      "826ba5d0-2df3-4d3f-a607-26abaef76fbb": {
       "attrs": {
        "height": 0.8,
        "width": 0.8,
        "x": 0.1,
        "y": 0.1
       },
       "content": {
        "cell": "a6d24be6-ed23-4f2f-a85b-2e0af33c2241",
        "part": "whole"
       },
       "id": "826ba5d0-2df3-4d3f-a607-26abaef76fbb"
      }
     }
    },
    "157b3730-805c-421e-bc5f-d243e7c49282": {
     "id": "157b3730-805c-421e-bc5f-d243e7c49282",
     "prev": "8c76313b-066c-4cb4-a390-c3c9ac33cb80",
     "regions": {
      "450e6149-bd0b-4052-9379-3f227b225cd3": {
       "attrs": {
        "height": 0.8,
        "width": 0.8,
        "x": 0.1,
        "y": 0.1
       },
       "content": {
        "cell": "1fcdb3f9-88fd-4f42-b8fb-742ddbf0ce8d",
        "part": "whole"
       },
       "id": "450e6149-bd0b-4052-9379-3f227b225cd3"
      }
     }
    },
    "1b79668b-c487-4a0c-9ea6-e875a3bf7819": {
     "id": "1b79668b-c487-4a0c-9ea6-e875a3bf7819",
     "prev": "5fd80481-84c4-41d9-bb76-6042bdaeeb9f",
     "regions": {
      "7d15206d-7796-4b15-807b-ae67e85cb6db": {
       "attrs": {
        "height": 0.8,
        "width": 0.8,
        "x": 0.1,
        "y": 0.1
       },
       "content": {
        "cell": "af78c592-9f9f-410f-85c8-c67f1b5b00bf",
        "part": "whole"
       },
       "id": "7d15206d-7796-4b15-807b-ae67e85cb6db"
      }
     }
    },
    "23fddaf9-10c0-4a1a-82bd-6644a825979a": {
     "id": "23fddaf9-10c0-4a1a-82bd-6644a825979a",
     "prev": "1b79668b-c487-4a0c-9ea6-e875a3bf7819",
     "regions": {
      "5ea4c128-7392-4b75-8c9b-71c9ed9d966a": {
       "attrs": {
        "height": 0.8,
        "width": 0.8,
        "x": 0.1,
        "y": 0.1
       },
       "content": {
        "cell": "5d1ad50f-ef3f-4028-afd8-5fbc4f7949f2",
        "part": "whole"
       },
       "id": "5ea4c128-7392-4b75-8c9b-71c9ed9d966a"
      }
     }
    },
    "2472a066-b949-4a63-9dc7-426c957b65ab": {
     "id": "2472a066-b949-4a63-9dc7-426c957b65ab",
     "prev": "6a1de2c3-42f3-46ae-9687-19c5813054d0",
     "regions": {
      "9b736cf1-a8ae-428e-b5b7-5cf1807b183b": {
       "attrs": {
        "height": 0.8,
        "width": 0.8,
        "x": 0.1,
        "y": 0.1
       },
       "content": {
        "cell": "24f6c3bd-a518-4f80-8a6d-21604150de7e",
        "part": "whole"
       },
       "id": "9b736cf1-a8ae-428e-b5b7-5cf1807b183b"
      }
     }
    },
    "2877fee7-b851-4d16-b436-19b94a97b6f5": {
     "id": "2877fee7-b851-4d16-b436-19b94a97b6f5",
     "prev": "f78cd36b-c52a-45a6-b3bb-49e56a3c483d",
     "regions": {
      "18f46e27-ccb2-4385-a261-e69f7702f2a3": {
       "attrs": {
        "height": 0.8,
        "width": 0.8,
        "x": 0.1,
        "y": 0.1
       },
       "content": {
        "cell": "ccd4b0a0-af35-4114-ab01-96bdc4c7d204",
        "part": "whole"
       },
       "id": "18f46e27-ccb2-4385-a261-e69f7702f2a3"
      }
     }
    },
    "53a75a0f-2c18-46ba-a3c8-b6f325cc2c78": {
     "id": "53a75a0f-2c18-46ba-a3c8-b6f325cc2c78",
     "prev": "74d53005-8771-4083-8806-ab5935525ffe",
     "regions": {
      "dc0f8f60-6b53-44ea-9631-8a7ab8aec455": {
       "attrs": {
        "height": 0.8,
        "width": 0.8,
        "x": 0.1,
        "y": 0.1
       },
       "content": {
        "cell": "7bfcd607-0333-4858-924e-37e65b00ac60",
        "part": "whole"
       },
       "id": "dc0f8f60-6b53-44ea-9631-8a7ab8aec455"
      }
     }
    },
    "5fd80481-84c4-41d9-bb76-6042bdaeeb9f": {
     "id": "5fd80481-84c4-41d9-bb76-6042bdaeeb9f",
     "prev": "f71925ae-6990-4912-bf39-09e98394f684",
     "regions": {
      "d3df4ba7-060b-4926-b191-484408e151dd": {
       "attrs": {
        "height": 0.8,
        "width": 0.8,
        "x": 0.1,
        "y": 0.1
       },
       "content": {
        "cell": "20211565-080e-441b-9de7-a0dd60fc6872",
        "part": "whole"
       },
       "id": "d3df4ba7-060b-4926-b191-484408e151dd"
      }
     }
    },
    "6a1de2c3-42f3-46ae-9687-19c5813054d0": {
     "id": "6a1de2c3-42f3-46ae-9687-19c5813054d0",
     "prev": null,
     "regions": {
      "2a6bb3c6-1b04-4186-9da9-1327e5c68743": {
       "attrs": {
        "height": 0.8,
        "width": 0.8,
        "x": 0.1,
        "y": 0.1
       },
       "content": {
        "cell": "a7a786d5-ed86-4fca-af9a-eeb2c7d619be",
        "part": "whole"
       },
       "id": "2a6bb3c6-1b04-4186-9da9-1327e5c68743"
      }
     }
    },
    "71f191ed-4f8b-4691-8507-cb54cc63c27a": {
     "id": "71f191ed-4f8b-4691-8507-cb54cc63c27a",
     "prev": "0906378b-9124-4d60-ade6-df244b260b63",
     "regions": {
      "4b210c85-9da7-4a36-9c33-f57cb4dececc": {
       "attrs": {
        "height": 0.8,
        "width": 0.8,
        "x": 0.1,
        "y": 0.1
       },
       "content": {
        "cell": "17b08793-d674-44ab-861d-ce65d17910ba",
        "part": "whole"
       },
       "id": "4b210c85-9da7-4a36-9c33-f57cb4dececc"
      }
     }
    },
    "74d53005-8771-4083-8806-ab5935525ffe": {
     "id": "74d53005-8771-4083-8806-ab5935525ffe",
     "prev": "23fddaf9-10c0-4a1a-82bd-6644a825979a",
     "regions": {
      "b7da68a7-abd4-4925-a199-b9f1c1a6a33a": {
       "attrs": {
        "height": 0.8,
        "width": 0.8,
        "x": 0.1,
        "y": 0.1
       },
       "content": {
        "cell": "9b96645c-10c0-4f9e-af18-5d35a440d078",
        "part": "whole"
       },
       "id": "b7da68a7-abd4-4925-a199-b9f1c1a6a33a"
      }
     }
    },
    "8c76313b-066c-4cb4-a390-c3c9ac33cb80": {
     "id": "8c76313b-066c-4cb4-a390-c3c9ac33cb80",
     "prev": "71f191ed-4f8b-4691-8507-cb54cc63c27a",
     "regions": {
      "d2c46773-1479-4a61-97da-842e33958e9f": {
       "attrs": {
        "height": 0.8,
        "width": 0.8,
        "x": 0.1,
        "y": 0.1
       },
       "content": {
        "cell": "3efe5b64-50bb-40a8-8ae9-7a8cba161edf",
        "part": "whole"
       },
       "id": "d2c46773-1479-4a61-97da-842e33958e9f"
      }
     }
    },
    "c44647f6-88a6-4d5c-b0cd-fb675470db14": {
     "id": "c44647f6-88a6-4d5c-b0cd-fb675470db14",
     "prev": "2877fee7-b851-4d16-b436-19b94a97b6f5",
     "regions": {
      "3cad13b0-808b-4b50-8ba6-08fc915d488a": {
       "attrs": {
        "height": 0.8,
        "width": 0.8,
        "x": 0.1,
        "y": 0.1
       },
       "content": {
        "cell": "53047808-8d59-4439-ab0b-cfd39d11be74",
        "part": "whole"
       },
       "id": "3cad13b0-808b-4b50-8ba6-08fc915d488a"
      }
     }
    },
    "f71925ae-6990-4912-bf39-09e98394f684": {
     "id": "f71925ae-6990-4912-bf39-09e98394f684",
     "prev": "c44647f6-88a6-4d5c-b0cd-fb675470db14",
     "regions": {
      "0a6782a6-88d2-44ad-966d-77f41cbd111f": {
       "attrs": {
        "height": 0.8,
        "width": 0.8,
        "x": 0.1,
        "y": 0.1
       },
       "content": {
        "cell": "56c15e1d-2bd3-4279-814e-754f13790012",
        "part": "whole"
       },
       "id": "0a6782a6-88d2-44ad-966d-77f41cbd111f"
      }
     }
    },
    "f78cd36b-c52a-45a6-b3bb-49e56a3c483d": {
     "id": "f78cd36b-c52a-45a6-b3bb-49e56a3c483d",
     "prev": "157b3730-805c-421e-bc5f-d243e7c49282",
     "regions": {
      "0d04b05a-0bee-4019-a4e6-ed6c1882a4af": {
       "attrs": {
        "height": 0.8,
        "width": 0.8,
        "x": 0.1,
        "y": 0.1
       },
       "content": {
        "cell": "7c1a4da2-ed82-4cc9-b439-e45fd5f232bc",
        "part": "whole"
       },
       "id": "0d04b05a-0bee-4019-a4e6-ed6c1882a4af"
      }
     }
    }
   },
   "themes": {}
  }
 },
 "nbformat": 4,
 "nbformat_minor": 1
}
