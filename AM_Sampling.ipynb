{
 "cells": [
  {
   "cell_type": "markdown",
   "metadata": {},
   "source": [
    "# *Adaptive* MH\n",
    "\n",
    "See the 1999 and 2001 papers of Haario et al."
   ]
  },
  {
   "cell_type": "code",
   "execution_count": 1,
   "metadata": {
    "collapsed": true
   },
   "outputs": [],
   "source": [
    "import numpy as np\n",
    "import numpy.linalg as la\n",
    "import matplotlib.pyplot as plt\n",
    "import scipy as sp\n",
    "import scipy.stats as ss\n",
    "import math\n",
    "import random\n",
    "from collections import namedtuple\n",
    "\n",
    "\n",
    "from MH_Sampling import acceptance_decision\n",
    "from FileHandling import save_state\n",
    "from TestSuite import generate_state_space, generate_iid_samples, get_distribution, get_samples"
   ]
  },
  {
   "cell_type": "code",
   "execution_count": 2,
   "metadata": {
    "collapsed": true
   },
   "outputs": [],
   "source": [
    "# save Adaptive Metropolis parameters in Named Tuple\n",
    "\n",
    "AM_Pars = namedtuple('AM_Pars', \n",
    "                     ['Origin', 'Id',\n",
    "                      'sigma_0', 'sigma_opt', \n",
    "                      'C_0', 'C_opt', \n",
    "                      'z_samples'])\n",
    "\n",
    "# initialize parameters\n",
    "def init_AM_pars(sp):\n",
    "    dim, origin, idty, = sp['dim'], sp['Origin'], sp['Id'], \n",
    "    sigma_0, sigma_opt = 0.1/np.sqrt(dim), sp['sigma_opt']\n",
    "    cov_0, cov_opt = sigma_0**2*idty, sigma_opt**2*idty\n",
    "    return AM_Pars(Origin=origin, Id=idty,\n",
    "                   sigma_0=sigma_0, sigma_opt=sigma_opt,\n",
    "                   C_0=cov_0, C_opt=cov_opt, \n",
    "                   z_samples=get_samples(sp=sp, name='Z'))"
   ]
  },
  {
   "cell_type": "markdown",
   "metadata": {},
   "source": [
    "# Adaptive MH algorithm *AM*"
   ]
  },
  {
   "cell_type": "markdown",
   "metadata": {},
   "source": [
    "## Generate the candidate next sample\n",
    "\n",
    "We consider a version of the *Adaptive Metropolis* (*AM*) sampler of Haario\n",
    "et al. (2001). We want to sample from the $d$-dimensional target distribution $\\pi(\\mathbf{x})$. \n",
    "\n",
    "We perform a Metropolis algorithm with covariance matrix $\\pmb{Q}_n$ at iteration $n$ given by\n",
    "\n",
    "$$\\mathbf{Q}_n(\\mathbf{x}, ·) = N(\\mathbf{x}, \\sigma_{0}^2 \\mathbb{1}_d)$$\n",
    "\n",
    "for $n \\leq 2d$, while for $n > 2d$\n",
    "\n",
    "$$\\mathbf{Q}_n(\\mathbf{x}, ·) = (1 − \\beta) N(\\mathbf{x}, \\sigma_{opt}^2 \\mathbf{C}_n) + \n",
    "\\beta N(\\mathbf{x}, \\sigma_{0}^2 \\mathbb{1}_d)$$\n",
    "\n",
    "where $\\mathbf{C}_n$ is the current empirical estimate of the covariance of the target distribution\n",
    "based on the samples so far, $\\sigma_{0}^2 = \\frac{0.1^2}{d}$ and $\\sigma_{opt}^2 = \\frac{2.38^2}{d}$ are the initial and optimal scale, respectively, and $\\beta$ is a small positive constant, we use $\\beta = 0.05$.\n",
    " \n",
    "In other words, the next candidate is sampled from\n",
    "\n",
    "$$\\mathbf{x}^{*} \\sim \\mathbf{Q}_n(\\mathbf{x}, ·)$$\n",
    " \n",
    "The text above is adapted from Section 2 of Gareth O. Roberts and Jeffrey S. Rosenthal (2008) \n",
    "*Examples of Adaptive MCMC*."
   ]
  },
  {
   "cell_type": "markdown",
   "metadata": {},
   "source": [
    "## Random covariance matrix $M$ from the above paper."
   ]
  },
  {
   "cell_type": "code",
   "execution_count": 3,
   "metadata": {
    "collapsed": true
   },
   "outputs": [],
   "source": [
    "def get_proposal_cov(M2, n, pars, beta=0.05):\n",
    "    d, _ = M2.shape\n",
    "    init_period = 2*d\n",
    "    s_0, s_opt, C_0 = pars.sigma_0, pars.sigma_opt, pars.C_0\n",
    "    if np.random.rand()<=beta or n<= init_period:\n",
    "        return C_0\n",
    "    else:\n",
    "        # We can always divide M2 by n-1 since n > init_period\n",
    "        return (s_opt/(n - 1))*M2"
   ]
  },
  {
   "cell_type": "code",
   "execution_count": 4,
   "metadata": {
    "collapsed": true
   },
   "outputs": [],
   "source": [
    "def generate_AM_candidate(current, M2, n, pars):\n",
    "    prop_cov = get_proposal_cov(M2, n, pars)\n",
    "    candidate = ss.multivariate_normal(mean=current, cov=prop_cov).rvs()\n",
    "    return candidate"
   ]
  },
  {
   "cell_type": "markdown",
   "metadata": {},
   "source": [
    "## Update the mean $\\mathbf{m}$ and the the covariance $\\mathbf{C}$ \n",
    "\n",
    "In the *AM*-algorithm, the **mean** is updated as\n",
    "\n",
    "$$\\mathbf{m}_{n+1} = \\frac{n}{n+1}\\mathbf{m}_{n} + \\frac{1}{n+1}\\left(\\mathbf{x}_{n+1} - \\mathbf{m}_{n}\\right)$$\n",
    "\n",
    "and the **covariance** as\n",
    "\n",
    "$$\\mathbf{C}_{n+1} = \\frac{n}{n+1}\\mathbf{C}_{n} + \\frac{1}{n+1}\\left( \n",
    "\\left(\\mathbf{x}_{n+1} - \\mathbf{m}_{n}\\right)\\left(\\mathbf{x}_{n+1} - \\mathbf{m}_{n}\\right)^\\top - \\mathbf{C}_{n} \\right)$$\n",
    "\n",
    "where $\\mathbf{x}_{n+1}$ is the sample generated at step $n+1$."
   ]
  },
  {
   "cell_type": "markdown",
   "metadata": {},
   "source": [
    "In the Welford algorithm, \n",
    "\n",
    "$$M_n \\triangleq \\sum_{i=1}^{n} {(x_i - \\overline{x}_n)}^2$$ \n",
    "\n",
    "or in other words \n",
    "\n",
    "$$s_n^2 = \\frac{M_n}{n-1}$$\n",
    "\n",
    "It is easier to update $M_n$ in a numerical stable way,\n",
    "\n",
    "$$M_n = M_{n-1} + (x_n - \\overline{x}_{n+1})(x_n - \\overline{x}_n)^\\top$$"
   ]
  },
  {
   "cell_type": "code",
   "execution_count": 5,
   "metadata": {
    "collapsed": true
   },
   "outputs": [],
   "source": [
    "def update_moments(mean, M2, sample, n):\n",
    "    next_n = n + 1\n",
    "    w = 1/next_n\n",
    "    new_mean = mean + w*(sample - mean)\n",
    "    delta_bf, delta_af = sample - mean, sample - new_mean\n",
    "    new_M2 = M2 + np.outer(delta_bf, delta_af)\n",
    "    return new_mean, new_M2, next_n"
   ]
  },
  {
   "cell_type": "code",
   "execution_count": 6,
   "metadata": {
    "collapsed": true
   },
   "outputs": [],
   "source": [
    "def multiple_of_10000(n):\n",
    "    return n%10000 == 0"
   ]
  },
  {
   "cell_type": "code",
   "execution_count": 7,
   "metadata": {
    "collapsed": true
   },
   "outputs": [],
   "source": [
    "def AM_sampler(pars, target, initial_state, run_data):\n",
    "    ds, N = run_data.DataStore, run_data.N\n",
    "    target_pdf = target['pdf']\n",
    "    \n",
    "    current = initial_state\n",
    "    mean, M2 = pars.Origin, np.zeros_like(pars.Id)\n",
    "    accepted = True\n",
    "    \n",
    "    for n in range(0, N):\n",
    "        save_state(data_store=ds, step=n,\n",
    "                   state=current, value=target_pdf(current),\n",
    "                   mean=mean, covariance=M2, accepted_p=accepted)\n",
    "        \n",
    "        # generate new candidate\n",
    "        candidate = generate_AM_candidate(current=current, M2=M2, n=n, pars=pars)\n",
    "        \n",
    "        # run Metropolis Hastings for acceptance criteria\n",
    "        accepted = acceptance_decision(current=current, proposed=candidate, pdf=target_pdf)\n",
    "        \n",
    "        # accepted candidate becomes new state\n",
    "        if accepted: \n",
    "            current = candidate\n",
    "        # We always update M2, where S^2 = M2/n-1 \n",
    "        # whether the proposed samples are accepted or not\n",
    "        mean, M2, n = update_moments(mean, M2, current, n)\n",
    "    return run_data"
   ]
  }
 ],
 "metadata": {
  "anaconda-cloud": {},
  "kernelspec": {
   "display_name": "Python 3",
   "language": "python",
   "name": "python3"
  },
  "language_info": {
   "codemirror_mode": {
    "name": "ipython",
    "version": 3
   },
   "file_extension": ".py",
   "mimetype": "text/x-python",
   "name": "python",
   "nbconvert_exporter": "python",
   "pygments_lexer": "ipython3",
   "version": "3.6.1"
  }
 },
 "nbformat": 4,
 "nbformat_minor": 1
}
