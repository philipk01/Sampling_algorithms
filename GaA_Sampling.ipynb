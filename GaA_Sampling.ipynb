{
 "cells": [
  {
   "cell_type": "markdown",
   "metadata": {},
   "source": [
    "# Gaussian Adaptation *Sampling*"
   ]
  },
  {
   "cell_type": "code",
   "execution_count": 8,
   "metadata": {
    "collapsed": true
   },
   "outputs": [],
   "source": [
    "import numpy as np\n",
    "import numpy.linalg as la\n",
    "import matplotlib.pyplot as plt\n",
    "import scipy as sp\n",
    "import scipy.stats as ss\n",
    "import math\n",
    "import random\n",
    "from collections import namedtuple"
   ]
  },
  {
   "cell_type": "code",
   "execution_count": 3,
   "metadata": {
    "collapsed": true
   },
   "outputs": [],
   "source": [
    "from MH_Sampling import acceptance_decision\n",
    "from FileHandling import save_state\n",
    "from TestSuite import generate_state_space, generate_iid_samples, get_distribution, get_samples"
   ]
  },
  {
   "cell_type": "markdown",
   "metadata": {},
   "source": [
    "# *Maximum Entropy* Principle\n",
    "To be done.\n",
    "\n",
    "The entropy of the multivariate normal distribution $N(\\mathbf{m}, \\mathbf{C})$ with mean $\\mathbf{m}$ and covariance matrix $\\mathbf{C}$ is \n",
    "\n",
    "$$ H(N) = \\ln \\sqrt{(2 \\pi e)^n \\det \\mathbf{C}}$$"
   ]
  },
  {
   "cell_type": "code",
   "execution_count": 4,
   "metadata": {
    "collapsed": true
   },
   "outputs": [],
   "source": [
    "def entropy(cov):\n",
    "    dim1, dim2 = cov.shape\n",
    "    assert dim1==dim2\n",
    "    return math.log(np.sqrt((2* math.pi * math.e)**dim1 * la.det(cov)))"
   ]
  },
  {
   "cell_type": "markdown",
   "metadata": {},
   "source": [
    "## Check Covariance Matrix"
   ]
  },
  {
   "cell_type": "code",
   "execution_count": 5,
   "metadata": {
    "collapsed": true
   },
   "outputs": [],
   "source": [
    "def analyse_cov(cov):\n",
    "    eigenvals, eigenvecs = la.eig(cov)\n",
    "    print('Covariance Matrix:\\n', cov)\n",
    "    print('Determinant:', la.det(cov))\n",
    "    print('Eigenvalues:', eigenvals)\n",
    "    print('Eigenvectors:', eigenvecs)\n",
    "    print('Symmetric:', np.allclose(cov, cov.T))"
   ]
  },
  {
   "cell_type": "markdown",
   "metadata": {},
   "source": [
    "# Gaussian Adaptation according to Mueller's Matlab code\n",
    "\n",
    "This notebook is based on Mueller's Matlab code and the paper *\"Gaussian Adaptation as a unifying framework for black-box optimization and adaptive Monte Carlo sampling\"* by *Christian I. Muellen* and *Ivo F. Sbalzarini*."
   ]
  },
  {
   "cell_type": "markdown",
   "metadata": {},
   "source": [
    "## Strategy Parameters\n",
    "\n",
    "The **strategy parameters** are:\n",
    "- the **acceptance ratio** $P$\n",
    "- the **expansion** $f_e > 1$ and **contracton factor** $f_c < 1$ used to update the global scale $\\sigma$\n",
    "- the **weigths** $\\lambda_{\\mathbf{m}}$, $\\lambda_{\\mathbf{C}}$, and $\\lambda_{\\theta}$ \n",
    "used to update the mean $\\mathbf{m}$, the covariance matrix $\\mathbf{C}$, and the threshold $\\theta$, respectively.\n",
    "\n",
    "They are **initialized** as follows, cf. p.2 of the MATLAB code of Mueller:\n",
    "\n",
    "- **acceptance ratio** $P = \\frac{1}{e}$. **REMARK BM**: Check the explanation regarding $P = \\frac{s}{s+f}$ where $s$ and $f$ are the number of successes and failures so far.\n",
    "\n",
    "- **expansion factor** $f_e = 1 + \\beta (1 - P)$ and **contraction factor** \n",
    "$f_c = 1 - \\beta P$ where $\\beta = \\lambda_{\\mathbf{C}}$\n",
    "\n",
    "- **weights** are initialized as follows\n",
    "\n",
    "- $\\lambda_{\\mathbf{C}} = \\frac{\\ln (d+1)}{(d+1)^2}$\n",
    "- $\\lambda_{\\mathbf{m}} = \\frac{1}{ed}$\n",
    "- $\\lambda_{\\theta} = \\frac{1}{ed}$ without restart, cf. the end of Section II.B of the paper what to do in case of restart.\n",
    "\n",
    "Here, $d$ is the dimension of the **search space** in case of **optimization** or the **state space**\n",
    "in case of **sampling**."
   ]
  },
  {
   "cell_type": "markdown",
   "metadata": {},
   "source": [
    "### Initializing *strategy parameters*\n",
    "Cf. above for their initial values."
   ]
  },
  {
   "cell_type": "code",
   "execution_count": 30,
   "metadata": {
    "collapsed": true
   },
   "outputs": [],
   "source": [
    "GaA_Pars = namedtuple('GaA_Pars', \n",
    "                      ['l_C', 'l_m', 'b', 'P', \n",
    "                       'f_e', 'f_c', 'max_scale', 'max_cond', \n",
    "                       'Origin', 'Id'])"
   ]
  },
  {
   "cell_type": "code",
   "execution_count": 6,
   "metadata": {
    "collapsed": true
   },
   "outputs": [],
   "source": [
    "def init_GaA_pars(sp):\n",
    "    D, origin, identity = sp['dim'], sp['Origin'], sp['Id']\n",
    "    tmp_l_c = math.log(D+1)/(D + 1)**2\n",
    "    tmp_P = 1/math.e\n",
    "    return GaA_Pars(l_C=tmp_l_c, \n",
    "                    l_m=1/(math.e*D), \n",
    "                    b=tmp_l_c, \n",
    "                    P=tmp_P, \n",
    "                    f_e=1 + tmp_l_c*(1-tmp_P), \n",
    "                    f_c=1 - tmp_l_c*tmp_P, \n",
    "                    max_scale=1000,\n",
    "                    max_cond=80, # he value used by Mueller is 1e6*D but this results in errors\n",
    "                    Origin=origin,\n",
    "                    Id=identity)"
   ]
  },
  {
   "cell_type": "code",
   "execution_count": 10,
   "metadata": {
    "collapsed": true
   },
   "outputs": [],
   "source": [
    "def display_parameters(pars):\n",
    "    str_1 = \"l_C: {:1.4f}\\nl_m: {:1.4f}\\nb: {:1.4f}\\nP: {:1.4f}\"\n",
    "    str_2 = \"\\nf_e: {:1.4f}\\nf_c: {:1.4f}\\nmax_scale: {:1.4f}\\nmax_cond: {:1.4f}\"\n",
    "    pars_info_1 = str_1.format(pars.l_C, pars.l_m, pars.b, pars.P)\n",
    "    pars_info_2 = str_2.format(pars.f_e, pars.f_c, pars.max_scale, pars.max_cond)\n",
    "    print( pars_info_1,  pars_info_2)"
   ]
  },
  {
   "cell_type": "markdown",
   "metadata": {},
   "source": [
    "# Generate next sample using $\\mathbf{Q}$\n",
    "\n",
    "The new state $\\mathbf{x}_{n+1}$ is generated as follows\n",
    "\n",
    "$$\\mathbf{x}_{n+1} = \\mathbf{m}_{n} + \\sigma_n \\mathbf{Q}_{n} \\mathbf{z}_{n}$$ \n",
    "\n",
    "where $\\sigma_n$ is the global scale, $\\mathbf{Q}_{n}$ is the \"square root\" of the covariance matrix $\\mathbf{C}_{n}$ as defined below, and \n",
    "$\\mathbf{z}_{n}$ is a sample of the multivariate standard normal distribution $N(0,1)$ generated at step $n$."
   ]
  },
  {
   "cell_type": "code",
   "execution_count": 11,
   "metadata": {
    "collapsed": true
   },
   "outputs": [],
   "source": [
    "def Q_generate_GaA_candidate(mean, scale, Q, z_sample):\n",
    "    # This function uses the normalized sqrt Q of the covariance matrix C. \n",
    "    # cf. p.7 of the MATLAB code of Mueller\n",
    "    x = mean + scale*(Q @ z_sample.T)\n",
    "    return x"
   ]
  },
  {
   "cell_type": "markdown",
   "metadata": {},
   "source": [
    "# Generate next sample using $C$"
   ]
  },
  {
   "cell_type": "code",
   "execution_count": 12,
   "metadata": {
    "collapsed": true
   },
   "outputs": [],
   "source": [
    "def C_generate_GaA_candidate(mean, C, z_sample):\n",
    "    return mean + C @ z_sample.T"
   ]
  },
  {
   "cell_type": "markdown",
   "metadata": {},
   "source": [
    "# Updates of the *scale* $\\sigma$, the *mean* $\\mathbf{m}$, and the *threshold* $\\theta$"
   ]
  },
  {
   "cell_type": "markdown",
   "metadata": {},
   "source": [
    "## Update of the **scale** $\\sigma$\n",
    "\n",
    "The **scale** is *updated at each step*: \n",
    "\n",
    "When the new sample is **accepted** then the scale is **increased**:\n",
    "\n",
    "$$\\sigma_{n+1} = f_e \\sigma_n$$\n",
    "where $f_e > 1$ is the *expansion factor*, one of the strategy parameters of Gaussion Adaptation. \n",
    "\n",
    "When the sample is **rejected** then the scale is **decreased**:\n",
    "$$\\sigma_{n+1} = f_c \\sigma_n$$\n",
    "where $f_c < 1$ is the *contraction factor*, another strategy parameter. "
   ]
  },
  {
   "cell_type": "code",
   "execution_count": 13,
   "metadata": {
    "collapsed": true
   },
   "outputs": [],
   "source": [
    "def contract(scale, pars):\n",
    "    return pars.f_c*scale\n",
    "\n",
    "def expand(scale, pars):\n",
    "    # cf. p.10 of the MATLAB code of Mueller\n",
    "    f_e, max_scale = pars.f_e, pars.max_scale\n",
    "    next_scale = f_e*scale\n",
    "    if next_scale <= max_scale:\n",
    "        return next_scale\n",
    "    else: \n",
    "        return max_scale"
   ]
  },
  {
   "cell_type": "markdown",
   "metadata": {},
   "source": [
    "## Update of the *mean* $\\mathbf{m}$\n",
    "\n",
    "\n",
    "These are \n",
    "\n",
    "The **mean** is **only updated** when the new sample $\\mathbf{x}_{n+1}$ is **accepted**. Th new mean is\n",
    "\n",
    "$$\\mathbf{m}_{n+1} = (1 - \\lambda_{\\mathbf{m}}) \\mathbf{m}_{n} + \\lambda_{\\mathbf{m}} \\mathbf{x}_n$$\n",
    "\n",
    "Here, $\\lambda_{\\mathbf{m}}$ and $\\lambda_{\\mathbf{C}}$ are *strategy parameters* of *Gaussian Adaptation*."
   ]
  },
  {
   "cell_type": "code",
   "execution_count": 14,
   "metadata": {
    "collapsed": true
   },
   "outputs": [],
   "source": [
    "# This code is for global optimization, NOT sampling. \n",
    "def GaA_mean_update_2(mean, sample, pars):\n",
    "    l_m = pars.l_m\n",
    "    return (1-l_m)*mean + l_m*sample"
   ]
  },
  {
   "cell_type": "code",
   "execution_count": 15,
   "metadata": {
    "collapsed": true
   },
   "outputs": [],
   "source": [
    "# In case of sampling l_m = 1, in other words the new sample becomes the next mean.\n",
    "def GaA_mean_update(mean, sample, pars):\n",
    "    return sample"
   ]
  },
  {
   "cell_type": "markdown",
   "metadata": {},
   "source": [
    "# Update of the covariance matrices $\\mathbf{C}$ and $\\mathbf{Q}$"
   ]
  },
  {
   "cell_type": "markdown",
   "metadata": {},
   "source": [
    "$\\mathbf{C}$ and $\\mathbf{Q}$ are covariance matrices and therefore positive definite and symmetric. \n",
    "Symmetry might get lost due to rounding off errors in the update process. After each update\n",
    "we make sure that the result is still symmetric.\n",
    "\n",
    "The first way to do this uses the *Numpy*-function *triu* that returns the upper triangle part of a matrix.\n",
    "The second one uses the *transpose* of a matrix. Recall that $\\mathbf{S} = \\mathbf{S}^\\top$ for a symmetric matrix\n",
    "$\\mathbf{S}$."
   ]
  },
  {
   "cell_type": "code",
   "execution_count": 16,
   "metadata": {
    "collapsed": true
   },
   "outputs": [],
   "source": [
    "def trui_enforce_symmetry(cov):\n",
    "    dim1, dim2 = cov.shape\n",
    "    assert dim1==dim2\n",
    "    return np.triu(cov,0)+np.triu(cov,1).T\n",
    "\n",
    "def transpose_enforce_symmetry(cov):\n",
    "    dim1, dim2 = cov.shape\n",
    "    assert dim1==dim2\n",
    "    return 1/2*(cov+cov.T)"
   ]
  },
  {
   "cell_type": "markdown",
   "metadata": {},
   "source": [
    "# Update of the \"*square root*\" $\\mathbf{Q}$ of the *covariance* matrix $\\mathbf{C}$"
   ]
  },
  {
   "cell_type": "markdown",
   "metadata": {},
   "source": [
    "First, we calculate $\\Delta \\mathbf{C}_n$ as follows\n",
    "\n",
    "$$\\Delta \\mathbf{C}_{n+1} = (1-\\lambda_\\mathbf{C})\\mathbb{1}_d + \\lambda_\\mathbf{C} \\mathbf{z}_n \\mathbf{z}_n^\\top$$\n",
    "\n",
    "where $\\mathbb{1}_d$ is the identity matrix, $\\mathbf{z}_n$ is the $n$th sample of the multivariate standard Gaussian distribution, and $\\lambda_\\mathbf{C}$ is the strategy parameter used in the update of the covariance matrix $\\mathbf{C}$."
   ]
  },
  {
   "cell_type": "code",
   "execution_count": 17,
   "metadata": {
    "collapsed": true
   },
   "outputs": [],
   "source": [
    "def delta_C(z_sample, pars):\n",
    "    l_C = pars.l_C\n",
    "    identity = pars.Id\n",
    "    deltaC = (1-l_C)*identity + l_C*np.outer(z_sample, z_sample)\n",
    "    #return enforce_symmetry(deltaC)\n",
    "    return deltaC"
   ]
  },
  {
   "cell_type": "markdown",
   "metadata": {},
   "source": [
    "Next, we define $\\Delta \\mathbf{Q}_{n+1}$ as \n",
    "\n",
    "$$\\Delta \\mathbf{Q}_{n+1} \\triangleq \\sqrt{\\Delta \\mathbf{C}_{n+1}}$$"
   ]
  },
  {
   "cell_type": "code",
   "execution_count": 18,
   "metadata": {
    "collapsed": true
   },
   "outputs": [],
   "source": [
    "def sqrtm(cov):    \n",
    "    D, B = la.eigh(cov)\n",
    "    sqrtD = np.diag(np.sqrt(D))\n",
    "    # Return the sqrt Q of the matrix C\n",
    "    return B @ sqrtD @ B.T"
   ]
  },
  {
   "cell_type": "markdown",
   "metadata": {
    "collapsed": true
   },
   "source": [
    "Finally, we calculate $\\mathbf{Q}_{n+1}$ as\n",
    "$$\\mathbf{Q}_{n+1} = \\mathbf{Q}_n \\Delta \\mathbf{Q}_{n+1}$$"
   ]
  },
  {
   "cell_type": "code",
   "execution_count": 19,
   "metadata": {
    "collapsed": true
   },
   "outputs": [],
   "source": [
    "def normalize(cov):\n",
    "    D, _ = cov.shape\n",
    "    normalization_constant = la.det(cov)**(1/D)\n",
    "    normalized_cov = cov/normalization_constant\n",
    "    #det = la.det(normalized_cov)\n",
    "    #np.testing.assert_almost_equal(det, 1.0)\n",
    "    return normalized_cov"
   ]
  },
  {
   "cell_type": "code",
   "execution_count": 20,
   "metadata": {
    "collapsed": true
   },
   "outputs": [],
   "source": [
    "def GaA_Q_update(z_sample, Q, pars):\n",
    "    max_cond = pars.max_cond\n",
    "    deltaC = delta_C(z_sample, pars)\n",
    "    deltaQ = sqrtm(deltaC)\n",
    "    Q_next = normalize(transpose_enforce_symmetry(Q @ deltaQ))\n",
    "    if la.cond(Q_next) <=  max_cond:\n",
    "        return Q_next\n",
    "    else: \n",
    "        return Q"
   ]
  },
  {
   "cell_type": "markdown",
   "metadata": {},
   "source": [
    "# Update of the *covariance* matrix $\\mathbf{C}$"
   ]
  },
  {
   "cell_type": "code",
   "execution_count": 21,
   "metadata": {
    "collapsed": true
   },
   "outputs": [],
   "source": [
    "def GaA_C_update(C, mean, sample, pars):\n",
    "    # Cf. p.10 of the MATLAB code of Mueller\n",
    "    l_C, max_cond = pars.l_C, pars.max_cond\n",
    "    delta = mean - sample\n",
    "    C_next = (1 - l_C)*C + l_C*np.outer(delta, delta)\n",
    "    if la.cond(C_next) <= max_cond:\n",
    "        return C_next\n",
    "    else: \n",
    "        return C  "
   ]
  },
  {
   "cell_type": "markdown",
   "metadata": {},
   "source": [
    "# Gaussian Adaptation Sampling"
   ]
  },
  {
   "cell_type": "code",
   "execution_count": 22,
   "metadata": {
    "collapsed": true
   },
   "outputs": [],
   "source": [
    "def Q_GaA_sampler(pars, target, initial_state, run_data):\n",
    "    target_pdf, sp = target['pdf'], target['State Space']\n",
    "    Origin, Id = sp['Origin'], sp['Id']\n",
    "    \n",
    "    ds, N = run_data.DataStore, run_data.N\n",
    "    z_samples = get_samples(sp=sp, name='Z')\n",
    "    \n",
    "    #Set up and save the initial state\n",
    "    m = x_current = initial_state\n",
    "    sigma = 1\n",
    "    Q = Id\n",
    "    save_state(data_store=ds, \n",
    "               step=0, \n",
    "               state=x_current, \n",
    "               value=target_pdf(x_current),\n",
    "               accepted_p=True, \n",
    "               mean=m, \n",
    "               covariance=Q, \n",
    "               scale=sigma, \n",
    "               threshold=None)\n",
    "    \n",
    "    #Sample and save state\n",
    "    for n in range(1, N):\n",
    "        z_sample = z_samples[n]\n",
    "        x_proposed = Q_generate_GaA_candidate(mean=x_current, \n",
    "                                              scale=sigma, \n",
    "                                              Q=Q, \n",
    "                                              z_sample=z_sample)\n",
    "        accepted = acceptance_decision(x_current, x_proposed, target_pdf)\n",
    "        if accepted:\n",
    "            x_current = x_proposed\n",
    "            sigma = expand(sigma, pars=pars)\n",
    "            m = GaA_mean_update(mean=m, sample=x_proposed, pars=pars)\n",
    "            Q = GaA_Q_update(Q=Q, z_sample=z_sample, pars=pars)\n",
    "        else:\n",
    "            sigma = contract(sigma, pars=pars)\n",
    "        save_state(data_store=ds, \n",
    "                   step=n, \n",
    "                   state=x_current, \n",
    "                   value=target_pdf(x_current),\n",
    "                   accepted_p=accepted, \n",
    "                   mean=m, \n",
    "                   covariance=Q, \n",
    "                   scale=sigma, \n",
    "                   threshold=None)\n",
    "    return run_data"
   ]
  },
  {
   "cell_type": "code",
   "execution_count": 23,
   "metadata": {
    "collapsed": true
   },
   "outputs": [],
   "source": [
    "def C_GaA_sampler(pars, target, initial_state, run_data):\n",
    "    target_pdf, sp = target['pdf'], target['State Space']\n",
    "    Origin, Id = sp['Origin'], sp['Id']\n",
    "    \n",
    "    ds, N = run_data.DataStore, run_data.N\n",
    "    z_samples = get_samples(sp=sp, name='Z')\n",
    "\n",
    "    #Set up and save the initial state\n",
    "    m = x_current = initial_state\n",
    "    sigma = 1\n",
    "    C = Id\n",
    "    \n",
    "    save_state(data_store=ds, \n",
    "               step=0, \n",
    "               state=x_current, \n",
    "               value=target_pdf(x_current),\n",
    "               accepted_p=True, \n",
    "               mean=m, \n",
    "               covariance=C, \n",
    "               scale=sigma, \n",
    "               threshold=None)\n",
    "    \n",
    "    #Sample and save state\n",
    "    for n in range(1, N):\n",
    "        z_sample = z_samples[n]\n",
    "        x_proposed = C_generate_GaA_candidate(mean=x_current,\n",
    "                                              C=C, \n",
    "                                              z_sample=z_sample)\n",
    "        accepted = acceptance_decision(x_current, x_proposed, target_pdf)\n",
    "        if accepted:\n",
    "            x_current = x_proposed\n",
    "            sigma = expand(sigma, pars=pars)\n",
    "            m = GaA_mean_update(mean=m, sample=x_proposed, pars=pars)\n",
    "            C = GaA_C_update(C=C, mean=m, sample=x_proposed, pars=pars)\n",
    "        else:\n",
    "            sigma = contract(sigma, pars=pars)\n",
    "        save_state(data_store=ds, \n",
    "                   step=n, \n",
    "                   state=x_current, \n",
    "                   value=target_pdf(x_current),\n",
    "                   accepted_p=accepted, \n",
    "                   mean=m, \n",
    "                   covariance=C, \n",
    "                   scale=sigma, \n",
    "                   threshold=None)\n",
    "    return run_data"
   ]
  }
 ],
 "metadata": {
  "anaconda-cloud": {},
  "kernelspec": {
   "display_name": "Python 3",
   "language": "python",
   "name": "python3"
  },
  "language_info": {
   "codemirror_mode": {
    "name": "ipython",
    "version": 3
   },
   "file_extension": ".py",
   "mimetype": "text/x-python",
   "name": "python",
   "nbconvert_exporter": "python",
   "pygments_lexer": "ipython3",
   "version": "3.6.1"
  }
 },
 "nbformat": 4,
 "nbformat_minor": 1
}
