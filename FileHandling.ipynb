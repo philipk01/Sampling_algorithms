{
 "cells": [
  {
   "cell_type": "markdown",
   "metadata": {},
   "source": [
    "# Save and Inspect the state"
   ]
  },
  {
   "cell_type": "code",
   "execution_count": 66,
   "metadata": {
    "collapsed": true
   },
   "outputs": [],
   "source": [
    "import os\n",
    "import numpy as np"
   ]
  },
  {
   "cell_type": "code",
   "execution_count": 67,
   "metadata": {
    "collapsed": true
   },
   "outputs": [],
   "source": [
    "def save_state(data_store, step, state, value, accepted_p, \n",
    "               mean=None, covariance=None, scale=None, threshold=None, C_evol_pt=None):\n",
    "    data_store['States'][step] = state\n",
    "    data_store['Densities'][step] = value\n",
    "    data_store['Accepted_p'][step] = accepted_p\n",
    "    data_store['Means'][step] = mean \n",
    "    data_store['Covariances'][step] = covariance \n",
    "    data_store['Scales'][step] = scale\n",
    "    data_store['Thresholds'][step] = threshold\n",
    "    \n",
    "def inspect_state(data_store, step):\n",
    "    state = data_store['States'][step]\n",
    "    value = data_store['Densities'][step] \n",
    "    accepted_p = data_store['Accepted_p'][step] \n",
    "    mean = data_store['Means'][step] \n",
    "    covariance = data_store['Covariances'][step] \n",
    "    scale = data_store['Scales'][step]\n",
    "    threshold = data_store['Thresholds'][step] \n",
    "    print(\"State:\", state, \"R: \", scale, \"\\nThreshold: \", threshold, \"\\nState: \", state, \n",
    "          \"\\nIt's value: \", value, \"\\nMean: \", mean, \n",
    "          \"\\nCovariance: \", covariance)"
   ]
  },
  {
   "cell_type": "markdown",
   "metadata": {},
   "source": [
    "# Save in the file format used by *PyMC3*"
   ]
  },
  {
   "cell_type": "markdown",
   "metadata": {},
   "source": [
    "## Structure of the data directory\n",
    " \n",
    "The directory structure of 'Data' is as follows\n",
    " \n",
    "    1. for each dimension $d$ of the state space, 'Data' contains a folder 'Dim d'  \n",
    "    2. for each target, 'Dim d' contains a folder 'Target k' where $k$ is the index of \n",
    "    that targets in the test suite\n",
    "    3. for each sampler, 'Target k' contains a folder named after that sampler\n",
    "    4. for each run given the dimension of the state space, the target and the sampler, \n",
    "    a file 'chain_i' is generated where $i$ is the index of the run. \n",
    "    \n",
    "\n",
    "The global variable PARENT_FOLDER contains the parent folder, i.e. the folder where the experimental data will be store, e.g.\n",
    "\n",
    "    PARENT_FOLDER = '/Users/BM/Documents/Programming/Python/Notebooks/MCMC/To execute a run'\n",
    "    \n",
    "The functions below assume that the parent folder is correctly set."
   ]
  },
  {
   "cell_type": "code",
   "execution_count": 68,
   "metadata": {
    "collapsed": true
   },
   "outputs": [],
   "source": [
    "def relative_path_to_chain(dim, t_name, s_name):\n",
    "    data_folder = 'Data'\n",
    "    dim_folder = 'Dimension_{}'.format(dim)\n",
    "    target_folder = t_name\n",
    "    sampler_folder = s_name\n",
    "    return './'+'/'.join([data_folder, dim_folder, target_folder, sampler_folder])\n",
    "\n",
    "class ChDir(object):\n",
    "    \"\"\"\n",
    "    Step into a directory temporarily.\n",
    "    \"\"\"\n",
    "    def __init__(self, path):\n",
    "        self.old_dir = os.getcwd()\n",
    "        self.new_dir = path\n",
    " \n",
    "    def __enter__(self):\n",
    "        os.chdir(self.new_dir)\n",
    " \n",
    "    def __exit__(self, *args):\n",
    "        os.chdir(self.old_dir)\n",
    "\n",
    "def save_chain(chain, idx, individual_components_p=True):\n",
    "    \"\"\"Save a single-chain trace with index 'idx'. PyMC3 uses the labels x__0, x__1, x__2, etc.\n",
    "    for a vector when are regarded as COMPONENTS of that vector. \n",
    "    If we want to treat them INDIVIDUALLY the labels x_0, x_1, x_2, etc. have to be used. \n",
    "    This is, we use double versus single underscore.\n",
    "    \"\"\"\n",
    "    chain_name = 'chain-{}.csv'.format(idx)\n",
    "    _, nbcols = chain.shape\n",
    "    underscore = '_' if individual_components_p else '__'\n",
    "    varnames = ['x{}{}'.format(underscore, index) for index in range(nbcols)]\n",
    "    header = ','.join(varnames)\n",
    "    np.savetxt(fname=chain_name, X=chain, header=header, comments='', delimiter=',')\n",
    "\n",
    "def save_run_data(run_data, parent_folder):\n",
    "    warning = 'Parent Folder \\'%s\\' does NOT exist'%(parent_folder)\n",
    "    if not os.path.exists(parent_folder):\n",
    "        return warning\n",
    "    chain = run_data.DataStore['States']\n",
    "    chain_folder = relative_path_to_chain(dim=run_data.StateSpace['dim'],\n",
    "                                          t_name=run_data.Target['Name'] , \n",
    "                                          s_name=run_data.Sampler['Name'])\n",
    "    if not os.path.exists(chain_folder):\n",
    "        os.makedirs(chain_folder)\n",
    "    with ChDir(chain_folder):\n",
    "        nbfiles = len(os.listdir())\n",
    "        save_chain(chain=chain, idx=nbfiles)\n",
    "\n",
    "def save_comparison(combined_data, parent_folder):\n",
    "    for i, run_data in enumerate(combined_data):\n",
    "        save_run_data(run_data, parent_folder)"
   ]
  },
  {
   "cell_type": "code",
   "execution_count": 75,
   "metadata": {
    "collapsed": true
   },
   "outputs": [],
   "source": [
    "def read_states(f_name, dim, t_name, s_name):\n",
    "    chains_folder = relative_path_to_chain(dim=dim, t_name=t_name, s_name=s_name)\n",
    "    with ChDir(chains_folder):\n",
    "        return np.loadtxt(fname=f_name, skiprows=1, delimiter=',')"
   ]
  }
 ],
 "metadata": {
  "kernelspec": {
   "display_name": "Python 3",
   "language": "python",
   "name": "python3"
  },
  "language_info": {
   "codemirror_mode": {
    "name": "ipython",
    "version": 3
   },
   "file_extension": ".py",
   "mimetype": "text/x-python",
   "name": "python",
   "nbconvert_exporter": "python",
   "pygments_lexer": "ipython3",
   "version": "3.7.3"
  }
 },
 "nbformat": 4,
 "nbformat_minor": 2
}
