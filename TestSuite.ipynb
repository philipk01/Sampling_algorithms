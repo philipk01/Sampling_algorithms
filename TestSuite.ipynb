{
 "cells": [
  {
   "cell_type": "code",
   "execution_count": 3,
   "metadata": {
    "collapsed": true
   },
   "outputs": [],
   "source": [
    "import numpy as np\n",
    "import numpy.linalg as la\n",
    "import matplotlib.pyplot as plt\n",
    "import scipy as sp\n",
    "import scipy.stats as ss\n",
    "import math\n",
    "import random\n",
    "from collections import namedtuple\n",
    "#get_ipython().magic('precision 4')\n",
    "#get_ipython().magic('matplotlib inline')"
   ]
  },
  {
   "cell_type": "markdown",
   "metadata": {},
   "source": [
    "# State Space\n",
    "The dictionary *State Space* contains its dimension, the origin and identity matrix,\n",
    "and the optimal $\\sigma_{opt}$ scale according to Gelman et al.: $\\sigma_{opt} = 2.38/\\sqrt{d}$,\n",
    "where $d$ is the dimension of the state space and $\\sigma_{opt}$ is the scale of the isotropic proposal distribution used in the Metropolis-Hastings sampler.\n",
    "\n",
    "Later on we will add the target distributions of the test suite used in our experiments."
   ]
  },
  {
   "cell_type": "code",
   "execution_count": 2,
   "metadata": {
    "collapsed": true
   },
   "outputs": [],
   "source": [
    "def calculate_optimal_sigma(dim):\n",
    "    return 2.38/np.sqrt(dim)\n",
    "\n",
    "def state_space(dim):\n",
    "    return {'dim': dim, 'Origin': np.zeros(dim), 'Id': np.eye(dim), \n",
    "            'sigma_opt':calculate_optimal_sigma(dim)}"
   ]
  },
  {
   "cell_type": "markdown",
   "metadata": {},
   "source": [
    "## A random state of the state space"
   ]
  },
  {
   "cell_type": "code",
   "execution_count": 3,
   "metadata": {
    "collapsed": true
   },
   "outputs": [],
   "source": [
    "def generate_random_state(sp, min_range=-10, max_range=10):\n",
    "    \"\"\"Generates a random state in the state space that fits in the area to be plotted.\n",
    "    \"\"\"\n",
    "    return np.random.uniform(low=min_range, high=max_range, size=sp['dim'])"
   ]
  },
  {
   "cell_type": "code",
   "execution_count": 4,
   "metadata": {
    "collapsed": true
   },
   "outputs": [],
   "source": [
    "#random.seed(10) #REMARK BM: Random seed doesn't seem to work."
   ]
  },
  {
   "cell_type": "code",
   "execution_count": 5,
   "metadata": {
    "collapsed": true
   },
   "outputs": [],
   "source": [
    "def generate_initial_states(sp, nb_runs):\n",
    "    initial_states = {i:generate_random_state(sp) for i in np.arange(nb_runs)}\n",
    "    # Only update if the key does not exist yet. Check out how to do this.\n",
    "    sp.update({'Initial States':initial_states})"
   ]
  },
  {
   "cell_type": "markdown",
   "metadata": {},
   "source": [
    "# Testsuite of Target Distributions\n",
    "\n",
    "## Uncorrelated and Correlated Gaussian Distributions\n",
    "\n",
    "$\\pi_1$ is the uncorrelated Gaussian distribution with covariance matrix\n",
    "\n",
    "$$\n",
    "C_u=\n",
    "  \\begin{pmatrix}\n",
    "    100 & 0 \\\\\n",
    "    0 & 1 \n",
    "  \\end{pmatrix}\n",
    "$$\n",
    "\n",
    "and $\\pi_2$ is the correlated Gaussion distribution with \n",
    "covariance matrix\n",
    "\n",
    "$$\n",
    "C_c=\n",
    "  \\begin{pmatrix}\n",
    "    50.5 & 49.5 \\\\\n",
    "    49.5 & 50.5 \n",
    "  \\end{pmatrix}\n",
    "$$"
   ]
  },
  {
   "cell_type": "markdown",
   "metadata": {},
   "source": [
    "# Covariance Matrix"
   ]
  },
  {
   "cell_type": "code",
   "execution_count": 6,
   "metadata": {
    "collapsed": true
   },
   "outputs": [],
   "source": [
    "def generate_rotation_matrix(theta):\n",
    "    # Rotation matrix is 2-dimensional\n",
    "    return np.array([[np.cos(theta), -np.sin(theta)], \n",
    "                     [np.sin(theta), np.cos(theta)]])\n",
    "\n",
    "def generate_correlated_cov(uncorrelated_cov, theta):\n",
    "    correlated_cov = np.copy(uncorrelated_cov)\n",
    "    R = generate_rotation_matrix(theta)\n",
    "    R_inv = la.inv(R)\n",
    "    # Rotate the first 2 dimensions only and leave the other dimensions\n",
    "    # of the covariance matrix intact.\n",
    "    correlated_cov[:2, :2] = R @ uncorrelated_cov[:2,:2] @ R_inv\n",
    "    return correlated_cov"
   ]
  },
  {
   "cell_type": "markdown",
   "metadata": {},
   "source": [
    "### We could also use the fact that the transpose of a rotation is also its inverse."
   ]
  },
  {
   "cell_type": "markdown",
   "metadata": {
    "collapsed": true
   },
   "source": [
    "def alt_generate_correlated_cov(uncorrelated_cov, theta):\n",
    "    # Here we use the fact that the transpose of a rotation is also its inverse.\n",
    "    correlated_cov = np.copy(uncorrelated_cov)\n",
    "    R = generate_rotation_matrix(theta)\n",
    "    correlated_cov[:2, :2] = R @ uncorrelated_cov[:2,:2] @ R.T\n",
    "    return correlated_cov"
   ]
  },
  {
   "cell_type": "markdown",
   "metadata": {},
   "source": [
    "## Contour Functions corresponding with the Target Distributions \n",
    "\n",
    "### Standard Ellipse and General Ellipse\n",
    "\n",
    "When the ellips with equation \n",
    "\n",
    "$$\\left( \\frac{x_1}{a} \\right)^2 + \\left( \\frac{x_2}{b} \\right)^2 = 1$$\n",
    "\n",
    "is rotated over an angle $\\theta$ then the equation of that ellips becomes\n",
    "\n",
    "$$\\underbrace{\\left(\\frac{\\cos^2\\theta}{a^2} + \\frac{\\sin^2\\theta}{b^2}\\right)}_\\text{A} x_1^ 2 + \n",
    "\\underbrace{\\left( \\frac{\\sin^2\\theta}{a^2} + \\frac{\\cos^2\\theta}{b^2} \\right)}_\\text{C} x_2^2  \n",
    "+ 2 \\underbrace{\\cos \\theta \\sin \\theta \\left( \\frac{1}{a^2} - \\frac{1}{b^2} \\right)}_\\text{B} x_1 x_2 = 1$$\n",
    "\n",
    "or \n",
    "\n",
    "$$A x_1^2 + 2 B x_1 x_2 + C x_2^2 = 1$$\n",
    "\n",
    "where \n",
    "\n",
    "$$B^2 - A C < 0$$\n",
    "actually \n",
    "\n",
    "$$B^2 - A C = -1/(ab)^2$$"
   ]
  },
  {
   "cell_type": "code",
   "execution_count": 7,
   "metadata": {
    "collapsed": true
   },
   "outputs": [],
   "source": [
    "def get_ellipse_parameters(cov):\n",
    "    \n",
    "    \"\"\"Get the first 2 eigenvalues and their angle of covariance matrix.\n",
    "    The eigenvalues are returned in descending order together with \n",
    "    the angle of rotation (in radians). The eigenvalues correspond with \n",
    "    half the length, a and b, of these two main axes of \n",
    "    the general ellipse.\n",
    "    If the angle is small enough, meaning that the covariance matrix \n",
    "    can be considered diagonal, 0.0 is returned.\"\"\"\n",
    "    \n",
    "    e, v = la.eig(cov)\n",
    "    e_1, e_2, *_ = e\n",
    "    a, b = np.sqrt(e_1), np.sqrt(e_2)\n",
    "    v_a, v_b, *_ = v\n",
    "    # a must be at least b\n",
    "    if a < b:\n",
    "        a, b = b, a\n",
    "        v_a, v_b = v_b, v_a   \n",
    "    cos, *_ = v_a\n",
    "    theta = np.arccos(cos)\n",
    "    if np.isclose(theta, 0):\n",
    "        theta = 0.0\n",
    "    return a, b, theta"
   ]
  },
  {
   "cell_type": "code",
   "execution_count": 8,
   "metadata": {
    "collapsed": true
   },
   "outputs": [],
   "source": [
    "def calculate_ellipse_coefficients(a, b, theta):\n",
    "    sin, cos = np.sin(theta), np.cos(theta)\n",
    "    cos_sqd, sin_sqd = cos**2, sin**2\n",
    "    a_sqd, b_sqd = a**2, b**2\n",
    "    A = cos_sqd/a_sqd + sin_sqd/b_sqd\n",
    "    C = sin_sqd/a_sqd + cos_sqd/b_sqd\n",
    "    B = (1/a_sqd - 1/b_sqd)*sin*cos\n",
    "    return A, B, C"
   ]
  },
  {
   "cell_type": "code",
   "execution_count": 9,
   "metadata": {
    "collapsed": true
   },
   "outputs": [],
   "source": [
    "def get_Gaussian_contour(cov):\n",
    "    a, b, theta = get_ellipse_parameters(cov)\n",
    "    A, B, C = calculate_ellipse_coefficients(a, b, theta)\n",
    "    return lambda x1, x2: A*x1**2 + 2*B*x1*x2 + C*x2**2"
   ]
  },
  {
   "cell_type": "markdown",
   "metadata": {},
   "source": [
    "# Distribution\n",
    "\n",
    "We have three kind of distributions in the test suite\n",
    "   1. Gaussian distributions\n",
    "   2. mixture of Gaussians\n",
    "   3. transformed Gaussians, the so called twist distributions\n",
    "   \n",
    "The second kind is not implemented yet.\n",
    "\n",
    "\n",
    "The dictionary *Gaussian* contains the following fields\n",
    "   * its *Name*\n",
    "   * the *State Space* on which the probability distribution is defined\n",
    "   * its *probabibility density function* or *pdf*\n",
    "   * *Samples* that are *independent and identically distributed*. These samples will be compared to\n",
    "   the samples generated by the MCMC samplers studied. These samples are added at run time.\n",
    "   * the *Contour Function* used to plot the \n",
    "   * *Contour Levels* corresponding to the preset confidence levels, cfr. the global variable \n",
    "   CONFIDENCE_LEVELS for the values used. The values of the $\\chi^2$ distribution corresponding to\n",
    "   the confidence levels used: 67, 90, 95 and 99 percent.\n",
    "   \n",
    "Additionarly to the fields of Gaussian dictionary, *non_Gaussian* contains the additional fields *Transformation*,\n",
    "this is the function that will generated its i.i.d. samples using the samples of generating Gaussian."
   ]
  },
  {
   "cell_type": "markdown",
   "metadata": {},
   "source": [
    "## Gaussian Distributions in the Test Suite"
   ]
  },
  {
   "cell_type": "markdown",
   "metadata": {},
   "source": [
    "### Draw the contour lines corresponding to preset *confidence levels*"
   ]
  },
  {
   "cell_type": "code",
   "execution_count": 1,
   "metadata": {
    "collapsed": true
   },
   "outputs": [],
   "source": [
    "def get_chi2s(df, confidence_levels=[0.67, 0.90, 0.95, 0.99]):\n",
    "    \"\"\"ppf stands for the percent point function (inverse of cdf — percentiles).\"\"\"\n",
    "    #contour_levels = {conf:ss.chi2.ppf(conf, df) for conf in confidence_levels}\n",
    "    contour_levels = [ss.chi2.ppf(conf, df) for conf in confidence_levels]\n",
    "    return contour_levels"
   ]
  },
  {
   "cell_type": "markdown",
   "metadata": {},
   "source": [
    "### Generate the Gaussians given their covariances"
   ]
  },
  {
   "cell_type": "code",
   "execution_count": 11,
   "metadata": {
    "collapsed": true
   },
   "outputs": [],
   "source": [
    "def generate_Gaussian(sp, name, mean, cov):\n",
    "    d = sp['dim']\n",
    "    rv = ss.multivariate_normal(mean=mean, cov=cov)\n",
    "    return {'Name':name,\n",
    "            'State Space':sp,\n",
    "            'pdf':rv.pdf, \n",
    "            'Mean':mean,\n",
    "            'Covariance':cov,\n",
    "            'Contour Function':get_Gaussian_contour(cov),\n",
    "            'Contour Levels':get_chi2s(df=2)\n",
    "            #'Samples':None,\n",
    "           }"
   ]
  },
  {
   "cell_type": "code",
   "execution_count": 12,
   "metadata": {
    "collapsed": true
   },
   "outputs": [],
   "source": [
    "def generate_covs(sp):\n",
    "    # Standard Normal Z has the identity matrix as covariance\n",
    "    identity = sp['Id']\n",
    "    \n",
    "    # The optimal isotropic proposal is $\\sigma_{opt} * Id$\n",
    "    var_opt = sp['sigma_opt']**2\n",
    "    prop_cov = var_opt*identity\n",
    "    \n",
    "    # P1_2\n",
    "    Pi_1_cov = np.copy(identity)\n",
    "    Pi_1_cov[0, 0] = 100\n",
    "    \n",
    "    # Pi_2\n",
    "    Pi_2_cov = generate_correlated_cov(Pi_1_cov, np.pi/4)\n",
    "    \n",
    "    # Pi_rnd\n",
    "    d = sp['dim']\n",
    "    M = np.random.normal(size=(d,d))\n",
    "    Pi_rnd = M@M.T\n",
    "    return {'Z':identity, 'Proposal':prop_cov, 'Pi_1':Pi_1_cov, \n",
    "            'Pi_2':Pi_2_cov, 'Pi_rnd':Pi_rnd}\n",
    "    \n",
    "\n",
    "def generate_all_Gaussians(sp):\n",
    "    named_covs = generate_covs(sp)\n",
    "    gaussians = {name:generate_Gaussian(sp=sp, name=name, mean=sp['Origin'], cov=cov)\n",
    "                 for name, cov in named_covs.items()}\n",
    "    return gaussians"
   ]
  },
  {
   "cell_type": "markdown",
   "metadata": {},
   "source": [
    "## Proposal Generator\n",
    "\n",
    "The **radial basis** or **isotropic** proposal generator used by the Metropolis-Hastings sampler. \n",
    "Its *mean* is the origin and the *spread* is $\\sigma$."
   ]
  },
  {
   "cell_type": "code",
   "execution_count": 13,
   "metadata": {
    "collapsed": true
   },
   "outputs": [],
   "source": [
    "def generate_isotropic_Gaussian(sp, sigma):\n",
    "    origin, identity = sp['Origin'], sp['Id']\n",
    "    diagonal = sigma**2 * identity\n",
    "    return generate_Gaussian(sp=sp, name='Isotropic', mean=origin, cov=diagonal)"
   ]
  },
  {
   "cell_type": "code",
   "execution_count": 14,
   "metadata": {
    "collapsed": true
   },
   "outputs": [],
   "source": [
    "def generate_random_Gaussian(sp):\n",
    "    d, origin = sp['dim'], sp['Origin']\n",
    "    M = np.random.normal(size=(d,d))\n",
    "    random_cov = M@M.T\n",
    "    return generate_Gaussian(sp=sp, name='Random', mean=origin, cov=random_cov)"
   ]
  },
  {
   "cell_type": "markdown",
   "metadata": {},
   "source": [
    "## Twisted Distributions in the Test Suite"
   ]
  },
  {
   "cell_type": "code",
   "execution_count": 15,
   "metadata": {
    "collapsed": true
   },
   "outputs": [],
   "source": [
    "def f_twist(b):\n",
    "    def phi_b(x):\n",
    "        \"\"\"Argument and the value returned are d-dimensional numpy arrays.\"\"\"\n",
    "        y = np.copy(x)\n",
    "        x1, x2 = x[:2]\n",
    "        y[0], y[1] = x1, x2 + b*x1**2 - 100*b\n",
    "        return y\n",
    "    \n",
    "    def phi_b_inv(y):\n",
    "        \"\"\"Argument and the value returned are d-dimensional numpy arrays.\"\"\"\n",
    "        x = np.copy(y)\n",
    "        y1, y2 = y[:2]\n",
    "        x[0], x[1] = y1, y2 - b*y1**2 + 100*b\n",
    "        return x\n",
    "    return phi_b, phi_b_inv\n",
    "\n",
    "def compose2(f, g):\n",
    "    return lambda x: f(g(x))"
   ]
  },
  {
   "cell_type": "code",
   "execution_count": 16,
   "metadata": {
    "collapsed": true
   },
   "outputs": [],
   "source": [
    "def apply_to(transformation, pts):\n",
    "    \"\"\"Used to generate samples of a twist distribution given samples of a Gaussian one.\n",
    "    The argument transformation, e.g. phi_b(x1, x2) = (y1, y2) is a 2-dimensional\n",
    "    transformation of the vectors in pts. The result is an array of the transformed points.\n",
    "    \"\"\"\n",
    "    transformed_pts = np.zeros_like(pts)\n",
    "    for i, pt in enumerate(pts):\n",
    "        transformed_pts[i] = transformation(pt)\n",
    "    return transformed_pts"
   ]
  },
  {
   "cell_type": "code",
   "execution_count": 17,
   "metadata": {
    "collapsed": true
   },
   "outputs": [],
   "source": [
    "def apply(transformation):\n",
    "    return lambda pts: apply_to(transformation, pts)"
   ]
  },
  {
   "cell_type": "code",
   "execution_count": 18,
   "metadata": {
    "collapsed": true
   },
   "outputs": [],
   "source": [
    "def get_twisted_contour(gaussian, b):\n",
    "    cov = gaussian['Covariance']\n",
    "    f = get_Gaussian_contour(cov)\n",
    "    return lambda x1, x2: f(x1, x2 + b*x1**2 - 100*b)"
   ]
  },
  {
   "cell_type": "code",
   "execution_count": 19,
   "metadata": {
    "collapsed": true
   },
   "outputs": [],
   "source": [
    "def generate_twist(gaussian, b, name):\n",
    "    # The twisted distribution is a transformation of \n",
    "    # the uncorrelated Gaussian distribution 'gaussian'\n",
    "    transformed_distr = gaussian.copy()\n",
    "    transformed_function, inverse_twist_function = f_twist(b=b)\n",
    "    transformed_pdf = compose2(gaussian['pdf'], transformed_function)\n",
    "    contour_function = get_twisted_contour(gaussian=gaussian, b=b)\n",
    "    transformed_distr.update({'Name':name, \n",
    "                              'Generator':gaussian, \n",
    "                              'pdf':transformed_pdf,\n",
    "                              'Contour Function':contour_function})\n",
    "    transformed_distr.update({'Transformation':apply(inverse_twist_function)})\n",
    "    return transformed_distr"
   ]
  },
  {
   "cell_type": "code",
   "execution_count": 20,
   "metadata": {
    "collapsed": true
   },
   "outputs": [],
   "source": [
    "def generate_all_twists(gaussian, b_values, names):\n",
    "    twists ={name:generate_twist(gaussian, b, name) \n",
    "             for b, name in zip(b_values, names)}\n",
    "    return twists"
   ]
  },
  {
   "cell_type": "code",
   "execution_count": 21,
   "metadata": {
    "collapsed": true
   },
   "outputs": [],
   "source": [
    "def generate_test_suite(sp):\n",
    "    gaussians = generate_all_Gaussians(sp)\n",
    "    twists = generate_all_twists(gaussian=gaussians['Pi_1'], \n",
    "                                 b_values=[0.03, 0.1], \n",
    "                                 names=['Pi_3', 'Pi_4'])\n",
    "    sp.update({'Test Suite':{**gaussians, **twists}})"
   ]
  },
  {
   "cell_type": "code",
   "execution_count": 22,
   "metadata": {
    "collapsed": true
   },
   "outputs": [],
   "source": [
    "def generate_state_space(dim, nb_runs=100, N=None):\n",
    "    sp = state_space(dim=dim)\n",
    "    generate_test_suite(sp)\n",
    "    generate_initial_states(sp=sp, nb_runs=nb_runs)\n",
    "    return sp"
   ]
  },
  {
   "cell_type": "markdown",
   "metadata": {},
   "source": [
    "### Generate independent and identically distributed or i.i.d. samples\n",
    "\n",
    "These samples will be generated when we initialize a run. They are compared to the correlated samples generated by a MCMC sampler."
   ]
  },
  {
   "cell_type": "code",
   "execution_count": 23,
   "metadata": {
    "collapsed": true
   },
   "outputs": [],
   "source": [
    "def iid_samples_Gaussian(gaussian, N):\n",
    "    mean, cov = gaussian['Mean'], gaussian['Covariance']\n",
    "    rv = ss.multivariate_normal(mean=mean, cov=cov)\n",
    "    samples = rv.rvs(size=N)\n",
    "    gaussian.update({'Samples':samples})"
   ]
  },
  {
   "cell_type": "markdown",
   "metadata": {},
   "source": [
    "### Generate i.i.d. samples of an transformed Gaussian distribution.\n",
    "These samples will be generated when we initialize a run. They are compared to the correlated samples generated by a MCMC sampler."
   ]
  },
  {
   "cell_type": "code",
   "execution_count": 24,
   "metadata": {
    "collapsed": true
   },
   "outputs": [],
   "source": [
    "def iid_samples_transformed_Gaussian(distr, N):\n",
    "    #Samples are generated by transforming the random samples of \n",
    "    #the generating Gaussian distribution.\n",
    "    generator = distr['Generator']\n",
    "    transformation = distr['Transformation']\n",
    "    if not 'Samples' in generator:\n",
    "        iid_samples_Gaussian(generator, N)\n",
    "    transformed_samples = transformation(generator['Samples'])\n",
    "    distr.update({'Samples':transformed_samples})"
   ]
  },
  {
   "cell_type": "markdown",
   "metadata": {},
   "source": [
    "## Generate i.i.d. samples for the whole Test Suite"
   ]
  },
  {
   "cell_type": "code",
   "execution_count": 25,
   "metadata": {
    "collapsed": true
   },
   "outputs": [],
   "source": [
    "def generate_iid_samples(sp, N):\n",
    "    test_suite = sp['Test Suite']\n",
    "    for name, distr in test_suite.items():\n",
    "        if 'Generator' not in distr:\n",
    "            iid_samples_Gaussian(gaussian=distr, N=N)\n",
    "        else:\n",
    "            iid_samples_transformed_Gaussian(distr=distr, N=N)"
   ]
  },
  {
   "cell_type": "markdown",
   "metadata": {},
   "source": [
    "## Getter functions for the samples of a distribution"
   ]
  },
  {
   "cell_type": "code",
   "execution_count": 26,
   "metadata": {
    "collapsed": true
   },
   "outputs": [],
   "source": [
    "def get_distribution(sp, name):\n",
    "    return sp['Test Suite'][name]\n",
    "\n",
    "def get_samples(sp, name):\n",
    "    return get_distribution(sp, name)['Samples']"
   ]
  },
  {
   "cell_type": "markdown",
   "metadata": {},
   "source": [
    "# Time to test"
   ]
  },
  {
   "cell_type": "code",
   "execution_count": 27,
   "metadata": {
    "collapsed": true
   },
   "outputs": [],
   "source": [
    "def inspect(sp, field):\n",
    "    test_suite = sp['Test Suite']\n",
    "    for key, distr in test_suite.items():\n",
    "        print(key, distr[field])\n",
    "        \n",
    "#inspect(SP, 'Covariance')"
   ]
  },
  {
   "cell_type": "code",
   "execution_count": 28,
   "metadata": {
    "collapsed": true
   },
   "outputs": [],
   "source": [
    "def inspect_Gaussian(sp, name_gaussian):\n",
    "    gaussian = sp['Test Suite'][name_gaussian]\n",
    "    print(gaussian['Name'])\n",
    "    print(gaussian['Mean'])\n",
    "    print(gaussian['Covariance'])\n",
    "    print(gaussian['Samples'][:5])\n",
    "\n",
    "def inspect_transformed_Gaussian(sp, name_distr):\n",
    "    distr = sp['Test Suite'][name_distr]\n",
    "    print(distr['Name'])\n",
    "    print(distr['Mean'])\n",
    "    print(distr['Covariance'])\n",
    "    inspect_Gaussian(sp, distr['Generator']['Name'])\n",
    "    print(distr['Samples'][:5])\n",
    "\n",
    "#inspect_transformed_Gaussian(SP, 'Pi_4')"
   ]
  },
  {
   "cell_type": "markdown",
   "metadata": {},
   "source": [
    "SP = generate_state_space(dim=2, nb_runs=10)\n",
    "generate_iid_samples(SP, N=1000)\n",
    "TESTSUITE = SP['Test Suite']"
   ]
  },
  {
   "cell_type": "markdown",
   "metadata": {},
   "source": [
    "Z_samples = get_samples(SP, name='Z')\n",
    "\n",
    "prop =  SP['Test Suite']['Proposal']\n",
    "prop_cov = prop['Covariance']\n",
    "prop_samples = prop['Samples']\n",
    "samples = Z_samples @ prop_cov\n",
    "\n",
    "samples[:10], prop_samples[:10]"
   ]
  }
 ],
 "metadata": {
  "kernelspec": {
   "display_name": "Python 3",
   "language": "python",
   "name": "python3"
  },
  "language_info": {
   "codemirror_mode": {
    "name": "ipython",
    "version": 3
   },
   "file_extension": ".py",
   "mimetype": "text/x-python",
   "name": "python",
   "nbconvert_exporter": "python",
   "pygments_lexer": "ipython3",
   "version": "3.7.3"
  }
 },
 "nbformat": 4,
 "nbformat_minor": 1
}
