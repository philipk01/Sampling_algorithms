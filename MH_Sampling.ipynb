{
 "cells": [
  {
   "cell_type": "markdown",
   "metadata": {},
   "source": [
    "# *Metropolis-Hastings* Sampling"
   ]
  },
  {
   "cell_type": "code",
   "execution_count": null,
   "metadata": {},
   "outputs": [],
   "source": [
    "import numpy as np\n",
    "import numpy.linalg as la\n",
    "import matplotlib.pyplot as plt\n",
    "import scipy as sp\n",
    "import scipy.stats as ss\n",
    "import math\n",
    "import random\n",
    "from collections import namedtuple\n",
    "import numba\n",
    "#%precision 4\n",
    "#%matplotlib inline"
   ]
  },
  {
   "cell_type": "code",
   "execution_count": null,
   "metadata": {},
   "outputs": [],
   "source": [
    "from FileHandling import save_state\n",
    "from TestSuite import get_samples"
   ]
  },
  {
   "cell_type": "code",
   "execution_count": null,
   "metadata": {},
   "outputs": [],
   "source": [
    "def acceptance_decision(current, proposed, pdf):\n",
    "#     Remark: 'accepted_p' includes the case where p_proposed > p_current \n",
    "#     since u, a random number between 0 and 1, is then\n",
    "#     always less than the ratio p_proposed/p_current\n",
    "#     But for readability we make a distinction between the cases below.\n",
    "    p_current, p_proposed = pdf(current), pdf(proposed)\n",
    "    if p_current <= p_proposed:\n",
    "        return True\n",
    "    else:\n",
    "        u = np.random.rand()\n",
    "        return u <= p_proposed/p_current"
   ]
  },
  {
   "cell_type": "code",
   "execution_count": null,
   "metadata": {},
   "outputs": [],
   "source": [
    "# computing the Metroppolis-Hastings acceptance\n",
    "def compose2(f, g):\n",
    "    return lambda x: f(g(x))\n",
    "\n",
    "def likelihood_acceptance_decision(current, proposed, log_pdf):\n",
    "    # Remark: 'accepted_p' includes the case where p_proposed > p_current \n",
    "    # since u, a random number between 0 and 1, is then\n",
    "    # always less than the ratio p_proposed/p_current\n",
    "    # But for readability we make a distinction in the code below between the \n",
    "    # two cases.\n",
    "    \n",
    "    p_current, p_proposed = log_pdf(current), log_pdf(proposed)\n",
    "    if p_current <= p_proposed:\n",
    "        return True\n",
    "    else:\n",
    "        u = np.random.rand()\n",
    "        return u <= p_proposed/p_current"
   ]
  },
  {
   "cell_type": "code",
   "execution_count": null,
   "metadata": {},
   "outputs": [],
   "source": [
    "## Proposal Distribution\n",
    "# Samples are generated when a run is initialized.\n",
    "\n",
    "MH_Pars = namedtuple('MH_Pars', ['Proposal'])\n",
    "\n",
    "def init_MH_pars(sp):\n",
    "    proposal = sp['Test Suite']['Proposal']\n",
    "    return MH_Pars(Proposal=proposal)"
   ]
  },
  {
   "cell_type": "code",
   "execution_count": null,
   "metadata": {},
   "outputs": [],
   "source": [
    "def generate_candidate(center, delta):\n",
    "    return center + delta"
   ]
  },
  {
   "cell_type": "markdown",
   "metadata": {},
   "source": [
    "# Metropolis-Hastings algorithm"
   ]
  },
  {
   "cell_type": "code",
   "execution_count": null,
   "metadata": {},
   "outputs": [],
   "source": [
    "def MH_sampler(pars, target, initial_state, run_data, C_generation=False, likelihood=True):\n",
    "    ds, N = run_data.DataStore, run_data.N\n",
    "    \n",
    "    target_pdf = target['pdf']\n",
    "    proposal_samples = pars.Proposal['Samples']\n",
    "\n",
    "    current = initial_state\n",
    "    accepted = True\n",
    "    \n",
    "    #The integration of the C- and L-variant still has to be done.\n",
    "    #if C_generation:\n",
    "    #    generation_function = generate_candidate\n",
    "    #else:\n",
    "    #    generation_fuction = L_generate_candidate\n",
    "        \n",
    "    if likelihood: \n",
    "        decision_function, comparison_function = likelihood_acceptance_decision, compose2(np.log, target['pdf']) \n",
    "    else: \n",
    "        decision_function, comparison_function = acceptance_decision, target['pdf']\n",
    "        \n",
    "    for n in range(1, N):\n",
    "        save_state(data_store=ds, step=n,\n",
    "                   state=current, value=target_pdf(current),\n",
    "                   accepted_p=accepted)\n",
    "        proposed = generate_candidate(center=current, delta=proposal_samples[n])\n",
    "        accepted = decision_function(current, proposed, target_pdf)\n",
    "        if accepted:\n",
    "            current = proposed\n",
    "        else:# The else clause is redundant but added for readability.\n",
    "            current = current\n",
    "    return run_data"
   ]
  },
  {
   "cell_type": "markdown",
   "metadata": {},
   "source": [
    "# Metropolis-Hastings using Cholesky factor $L$ instead of ful covariance matrix $C$\n"
   ]
  },
  {
   "cell_type": "code",
   "execution_count": null,
   "metadata": {},
   "outputs": [],
   "source": [
    "def L_generate_candidate(center, L, scale, z_sample):\n",
    "    return center + scale*L@z_sample"
   ]
  },
  {
   "cell_type": "code",
   "execution_count": null,
   "metadata": {},
   "outputs": [],
   "source": [
    "def L_MH_sampler(pars, target, initial_state, run_data, likelihood=True):\n",
    "    ds, N = run_data.DataStore, run_data.N\n",
    "    sp = target['State Space']\n",
    "    opt_scale, L = sp['sigma_opt'], sp['Id']\n",
    "    \n",
    "    if likelihood: \n",
    "        decision_function, comparison_function = likelihood_acceptance_decision, compose2(np.log, target['pdf']) \n",
    "    else: \n",
    "        decision_function, comparison_function = acceptance_decision, target['pdf']\n",
    "    \n",
    "    target_pdf = target['pdf']\n",
    "    current = initial_state\n",
    "    accepted = True\n",
    "    \n",
    "    z_samples = get_samples(sp=sp, name='Z')\n",
    "    for n in range(1, N):\n",
    "        save_state(data_store=ds, step=n,\n",
    "                   state=current, value=target_pdf(current),\n",
    "                   accepted_p=accepted)\n",
    "        proposed = L_generate_candidate(center=current, \n",
    "                                        L=L, scale=opt_scale,\n",
    "                                        z_sample=z_samples[n])\n",
    "        accepted = decision_function(current, proposed, target_pdf)\n",
    "        if accepted:\n",
    "            current = proposed\n",
    "        else:# The else clause is redundant but added for readability.\n",
    "            current = current\n",
    "    return run_data"
   ]
  }
 ],
 "metadata": {
  "anaconda-cloud": {},
  "kernelspec": {
   "display_name": "Python 3",
   "language": "python",
   "name": "python3"
  },
  "language_info": {
   "codemirror_mode": {
    "name": "ipython",
    "version": 3
   },
   "file_extension": ".py",
   "mimetype": "text/x-python",
   "name": "python",
   "nbconvert_exporter": "python",
   "pygments_lexer": "ipython3",
   "version": "3.7.3"
  }
 },
 "nbformat": 4,
 "nbformat_minor": 1
}
