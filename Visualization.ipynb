{
 "cells": [
  {
   "cell_type": "code",
   "execution_count": 1,
   "metadata": {
    "collapsed": true
   },
   "outputs": [],
   "source": [
    "import numpy as np\n",
    "import numpy.linalg as la\n",
    "import matplotlib.pyplot as plt\n",
    "import scipy as sp\n",
    "import scipy.stats as ss\n",
    "import math\n",
    "import random\n",
    "from collections import namedtuple\n",
    "#get_ipython().magic('precision 4')\n",
    "#get_ipython().magic('matplotlib inline')"
   ]
  },
  {
   "cell_type": "markdown",
   "metadata": {},
   "source": [
    "# *Visualize* the results of an *MCMC* run\n",
    "\n",
    "## Set Up the Grid\n",
    "\n",
    "The values of $x_{min}, x_{max}, {nb}_{x}, y_{min}, y_{max}, \\text{ and } {nb}_{y}$ depend on where the **probability mass** of the **target distribution** is located, i.e. where the probability density function is sufficiently 'large'."
   ]
  },
  {
   "cell_type": "code",
   "execution_count": 2,
   "metadata": {
    "collapsed": true
   },
   "outputs": [],
   "source": [
    "Grid = namedtuple('Grid', ['x_min', 'x_max', 'y_min', 'y_max', 'X', 'Y'])\n",
    "\n",
    "def make_grid(x_min=-30.0, x_max=30.0, nb_x =100, \n",
    "              y_min=-30.0, y_max=30.0, nb_y =100):\n",
    "    x_list = np.linspace(x_min, x_max, nb_x)\n",
    "    y_list = np.linspace(y_min, y_max, nb_y)\n",
    "    x, y = np.meshgrid(x_list, y_list)\n",
    "    return Grid(x_min=x_min, x_max=x_max, y_min=y_min, y_max=y_max, X=x, Y=y)\n",
    "\n",
    "GRID = make_grid()"
   ]
  },
  {
   "cell_type": "code",
   "execution_count": null,
   "metadata": {
    "collapsed": true
   },
   "outputs": [],
   "source": [
    "def Mahalanobis_distance(mean, point, precision):\n",
    "    # The precision matrix is the inverse of the covariance matrix.\n",
    "    delta = mean - point\n",
    "    return np.sqrt(delta @ precision @ delta.T)\n",
    "\n",
    "def squared_Mahalanobis_distance(point, precision):\n",
    "    # The precision matrix is the inverse of the covariance matrix.\n",
    "    delta = mean - point\n",
    "    return delta @ precision @ delta.T\n",
    "\n",
    "def Mahalanobis_norm(point, precision):\n",
    "    # The precision matrix is the inverse of the covariance matrix.\n",
    "    return np.sqrt(point @ precision @ point.T)\n",
    "\n",
    "def squared_Mahalanobis_norm(point, precision):\n",
    "    # The precision matrix is the inverse of the covariance matrix.\n",
    "    return point @ precision @ point.T\n",
    "\n",
    "def calculate_fractions(distribution, samples, burnin_pct=0):\n",
    "    precision = la.inv(distribution['Covariance'])\n",
    "    end_burnin = burnin_pct*len(samples)//100\n",
    "    samples_after_convergence = samples[end_burnin:]\n",
    "    nb_samples = len(samples_after_convergence)\n",
    "    norm_sq = [squared_Mahalanobis_norm(sample, precision) \n",
    "               for sample in samples_at_equilibrium]\n",
    "    return [sum(norm_sq <= contour_level)/nb_samples \n",
    "            for contour_level in distribution['Contour Levels']]"
   ]
  },
  {
   "cell_type": "code",
   "execution_count": null,
   "metadata": {
    "collapsed": true
   },
   "outputs": [],
   "source": [
    "# # the histogram of the distances\n",
    "# n, bins, patches = plt.hist(Distances, 50, normed=1, facecolor='green', alpha=0.75)\n",
    "# \n",
    "# plt.xlabel('Distance to the Mean')\n",
    "# plt.ylabel('Relative Frequency')\n",
    "# plt.title(r'$\\mathrm{Histogram\\ of\\ Sample\\ Distance\\ to\\ the\\ Mean}$')\n",
    "# plt.grid(True);\n",
    "\n",
    "# # cumulative distribution of the distances\n",
    "# values, base = np.histogram(Distances, bins=100)\n",
    "# # evaluate the cumulative\n",
    "# cumulative = np.cumsum(values)\n",
    "# # plot the cumulative function\n",
    "# plt.plot(base[:-1], cumulative, c='blue');\n",
    "\n",
    "# fig = plt.figure(\"i.i.d.\", figsize=(7, 7))\n",
    "# ax = fig.add_subplot(1, 1, 1) \n",
    "# subplot(ax, Pi_2, Pi_2.Samples[::1000], dim1=0, dim2=1, \n",
    "#         title='Distribution of i.i.d. generated samples.')\n",
    "\n",
    "# ## Contour Lines corresponding with given Confidence Levels\n",
    "# \n",
    "# Next we plot the contour lines corresponding with 10, 90, 95 and 99 percent confidence. Therefore we\n",
    "# use the corresponding values of $\\chi^2$-distribution. In case of a bivariate distribution we have 2 **degrees of freedom**. The values of this distribution can be found at the webpage https://people.richland.edu/james/lecture/m170/tbl-chi.html for instance.\n"
   ]
  },
  {
   "cell_type": "code",
   "execution_count": 4,
   "metadata": {
    "collapsed": true
   },
   "outputs": [],
   "source": [
    "def plot_contour_lines(ax, distribution, dim1, dim2):\n",
    "    global GRID\n",
    "    X, Y = GRID.X, GRID.Y\n",
    "    # Plot the contour lines\n",
    "    contour_function = distribution['Contour Function']\n",
    "    # Since we project and a 2-dimensional subspace we will use 2 degrees of freedom\n",
    "    # instead of the dimension of the statespace as we did before.\n",
    "    contour_levels = distribution['Contour Levels']\n",
    "    Z = contour_function(X, Y)\n",
    "    ax.contour(X, Y, Z, contour_levels)\n",
    "    \n",
    "def scatter_samples(ax, samples, dim1, dim2):\n",
    "    ax.scatter(samples[:, dim1], samples[:, dim2])\n",
    "    \n",
    "def subplot(ax, distribution, samples, dim1, dim2, title, fraction_str=None):\n",
    "    ax.set_title(title, fontweight='bold', color='blue', fontsize=14)\n",
    "    ax.axis([GRID.x_min, GRID.x_max, GRID.y_min, GRID.y_max])\n",
    "    ax.set_xlabel('Dimension ' + str(dim1))\n",
    "    ax.set_ylabel('Dimension ' + str(dim2))\n",
    "    plot_contour_lines(ax, distribution, dim1, dim2)\n",
    "    scatter_samples(ax, samples, dim1, dim2)"
   ]
  },
  {
   "cell_type": "code",
   "execution_count": 7,
   "metadata": {
    "collapsed": true
   },
   "outputs": [],
   "source": [
    "def compare_to_iid_samples(run_data, nb_samples, dim1=0, dim2=1, burnin_pct=50):\n",
    "    global GRID    \n",
    "    fig, ((ax_left, ax_right)) = plt.subplots(nrows=1, ncols=2, figsize=(15,7))\n",
    "    target = run_data.Target\n",
    "    # Data to be plotted.\n",
    "    step = run_data.N//nb_samples\n",
    "    mcmc_samples = run_data.DataStore['States']\n",
    "    iid_samples = target['Samples']\n",
    "    mcmc_samples_2_display = mcmc_samples[::step]\n",
    "    iid_samples_2_display = iid_samples[::step]\n",
    "    mcmc_fractions = calculate_fractions(target, mcmc_samples, burnin_pct)\n",
    "    iid_fractions = calculate_fractions(target, iid_samples, burnin_pct)\n",
    "    \n",
    "    # Information to be shown.\n",
    "    s_name = run_data.Sampler['Name']\n",
    "    title_str = 'Distribution of samples generated by {:s}'\n",
    "    title_info = title_str.format(s_name)\n",
    "    burnin_str = 'Burn in used is {:d} percent of the generated samples.'\n",
    "    burnin_info = burnin_str.format(burnin_pct)\n",
    "    mcmc_str = '{:s} Fractions: {:1.5f}, {:1.5f}, {:1.5f}, and {:1.5f}'\n",
    "    mcmc_info = mcmc_str.format(s_name, *mcmc_fractions) \n",
    "    iid_str = 'IID Fractions: {:1.5f}, {:1.5f}, {:1.5f}, and {:1.5f}'\n",
    "    iid_info = iid_str.format(*iid_fractions)\n",
    "    title_mcmc = '{:s} Generated'.format(s_name)\n",
    "    title_idd = 'IID Generated'\n",
    "    suptitle_str = 'Comparison of the {:s} (left) vs. the IID (right) sample distribution'\n",
    "    suptitle = suptitle_str.format(s_name)\n",
    "    \n",
    "    # Display everything.\n",
    "    print(burnin_info)\n",
    "    print(mcmc_info)\n",
    "    print(iid_info)\n",
    "    fig.suptitle(suptitle, fontweight='bold', color='red', fontsize=18)\n",
    "    subplot(ax_left, target, mcmc_samples_2_display, dim1, dim2, title=title_mcmc)\n",
    "    subplot(ax_right, target, iid_samples_2_display, dim1, dim2, title=title_idd)"
   ]
  },
  {
   "cell_type": "code",
   "execution_count": 6,
   "metadata": {
    "collapsed": true
   },
   "outputs": [],
   "source": [
    "def plot_samples(run_data, nb_samples, dim1=0, dim2=1, burnin_pct=50):\n",
    "    global GRID\n",
    "    # New figure window for the current sampling method\n",
    "    s_name = run_data.Sampler['Name']\n",
    "    fig = plt.figure(s_name, figsize=(7, 7)) \n",
    "    ax = fig.add_subplot(1, 1, 1)\n",
    "    # Data to be plotted.\n",
    "    target = run_data.Target\n",
    "    # Data to be plotted.\n",
    "    step = run_data.N//nb_samples\n",
    "    mcmc_samples_2_display = run_data.DataStore['States'][::step]\n",
    "    # Information to be shown.\n",
    "    fig_title_str = 'Distribution of samples generated by {:s}'\n",
    "    fig_title =  fig_title_str.format(s_name)\n",
    "    #Plot everything.\n",
    "    subplot(ax, target, mcmc_samples_2_display, dim1, dim2, title=fig_title)"
   ]
  },
  {
   "cell_type": "code",
   "execution_count": null,
   "metadata": {
    "collapsed": true
   },
   "outputs": [],
   "source": [
    "def subplot_2(ax, samples, dim1, dim2, title, color):\n",
    "    ax.set_title(title, fontweight='bold', fontsize=14)\n",
    "    ax.set_xlabel('Dimension ' + str(dim1))\n",
    "    ax.set_ylabel('Dimension ' + str(dim2))\n",
    "    ax.scatter(samples[:, dim1], samples[:, dim2], color=color)\n",
    "    \n",
    "def compare_sample_spread(dim1, dim2, list_of_samples, titles, colors):\n",
    "    # Ensure that dim1 and dim2 are less than the dimension of the state space.\n",
    "    _, dim = list_of_samples[0].shape\n",
    "    assert dim1 < dim, \"dim1 should be less then %r\" % dim\n",
    "    assert dim2 < dim, \"dim2 should be less then %r\" % dim\n",
    "    \n",
    "    #Generate the supplots.\n",
    "    fig, (axes) = plt.subplots(nrows=1, ncols=2, figsize=(15,7), sharex='col', sharey='row')\n",
    "    for ax, samples, title, color in zip(axes, list_of_samples, titles, colors):\n",
    "        subplot_2(ax=ax, samples=samples, dim1=dim1, dim2=dim2, title=title, color=color)"
   ]
  }
 ],
 "metadata": {
  "kernelspec": {
   "display_name": "Python 3",
   "language": "python",
   "name": "python3"
  },
  "language_info": {
   "codemirror_mode": {
    "name": "ipython",
    "version": 3
   },
   "file_extension": ".py",
   "mimetype": "text/x-python",
   "name": "python",
   "nbconvert_exporter": "python",
   "pygments_lexer": "ipython3",
   "version": "3.6.2"
  }
 },
 "nbformat": 4,
 "nbformat_minor": 1
}
